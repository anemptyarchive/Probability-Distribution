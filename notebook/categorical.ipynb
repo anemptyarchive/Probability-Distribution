{
 "cells": [
  {
   "cell_type": "markdown",
   "id": "metric-driving",
   "metadata": {},
   "source": [
    "# 確率分布の作図\n",
    "\n",
    "- 執筆期間：2022/01/14 - 2022/01/1"
   ]
  },
  {
   "cell_type": "code",
   "execution_count": 1,
   "id": "loaded-camping",
   "metadata": {},
   "outputs": [
    {
     "name": "stdout",
     "output_type": "stream",
     "text": [
      "更新日時：2022-01-16 05:44\n"
     ]
    }
   ],
   "source": [
    "# 更新日時を出力\n",
    "import datetime\n",
    "now = datetime.datetime.now()\n",
    "print('更新日時：' + '{0:%Y-%m-%d %H:%M}'.format(now))"
   ]
  },
  {
   "cell_type": "markdown",
   "id": "current-blogger",
   "metadata": {},
   "source": [
    "<br>"
   ]
  },
  {
   "cell_type": "markdown",
   "id": "sized-situation",
   "metadata": {},
   "source": [
    "# カテゴリ分布\n",
    "\n",
    "　カテゴリ分布(Categorical Distribution)の計算と作図を行います。  \n",
    "<br>\n",
    "\n",
    "　利用するライブラリを読み込みます。"
   ]
  },
  {
   "cell_type": "code",
   "execution_count": 2,
   "id": "stock-joyce",
   "metadata": {},
   "outputs": [],
   "source": [
    "# 利用するライブラリ\n",
    "import numpy as np\n",
    "from scipy.stats import multinomial # 多項分布\n",
    "import matplotlib.pyplot as plt\n",
    "from matplotlib.animation import FuncAnimation"
   ]
  },
  {
   "cell_type": "markdown",
   "id": "aware-receiver",
   "metadata": {},
   "source": [
    "　分布の変化をアニメーション(gif画像)で確認するのに`matplotlib`ライブラリの`animation`モジュールを利用します。  \n",
    "<br>"
   ]
  },
  {
   "cell_type": "markdown",
   "id": "operational-publication",
   "metadata": {},
   "source": [
    "## 定義式の確認\n",
    "\n",
    "　サイコロのように複数の離散値$1, 2, \\cdots, V$から1つの値をとる変数の確率分布をカテゴリ分布と言います。  \n",
    "　サイコロの出目(得られたクラス)が$v$のとき、$v$番目の要素$x_v$が1でそれ以外の要素が0の$V$次元ベクトル$\\mathbf{x} = (x_1, \\cdots, x_V)$で表します。$\\mathbf{x}$の各要素$x_v$が0か1の値をとることを$x_v \\in \\{0, 1\\}$で表します。また、1つの要素のみが1なので$\\sum_{v=1}^V x_v = 1$になります。  \n",
    "　$x_v = 1$(クラス$v$・出目が$v$)となる確率を$\\phi_v$で表すことにします。同様に、$\\mathbf{x}$の各要素に対応する確率をまとめて、$\\boldsymbol{\\phi} = (\\phi_1, \\cdots, \\phi_V)$と表記します。$\\boldsymbol{\\phi}$各要素は確率の定義より、$0 \\leq \\phi_v \\leq 1$、$\\sum_{v=1}^V \\phi_v = 1$の条件を満たす必要があります。  \n",
    "\n",
    "　カテゴリ分布は、パラメータ$\\boldsymbol{\\phi}$を用いて次の式で定義されます。\n",
    "\n",
    "$$\n",
    "\\mathrm{Cat}(\\boldsymbol{x} | \\boldsymbol{\\phi})\n",
    "  = \\prod_{v=1}^V\n",
    "        \\phi_v^{x_v}\n",
    "$$\n",
    "\n",
    "　この式は、例えばサイコロの出目が3、つまり$V = 6, x_3 = 1$のとき\n",
    "\n",
    "$$\n",
    "\\begin{aligned}\n",
    "\\mathrm{Cat}(x_3 = 1 | \\boldsymbol{\\phi})\n",
    "   &= \\prod_{v=1}^6\n",
    "          \\phi_v^{x_v}\n",
    "\\\\\n",
    "   &= \\phi_1^0 * \\phi_2^0 * \\phi_3^1 * \\phi_4^0 * \\phi_5^0 * \\phi_6^0\n",
    "\\\\\n",
    "   &= 1 * 1 * \\phi_3 * 1 * 1 * 1\n",
    "\\\\\n",
    "   &= \\phi_3\n",
    "\\end{aligned}\n",
    "$$\n",
    "\n",
    "となります。$x^0 = 1$です。  \n",
    "　このように、$x_v$に対応した確率$\\phi_v$となるように式が定義されています。  \n",
    "\n",
    "　また、クラス数が$V = 2$のとき、$\\boldsymbol{\\phi} = (\\phi_1, \\phi_2)$なので\n",
    "\n",
    "$$\n",
    "\\begin{aligned}\n",
    "\\sum_{v=1}^2 \\phi_v\n",
    "   &= 1 \\\\\n",
    "\\phi_1 + \\phi_2\n",
    "   &= 1 \\\\\n",
    "\\phi_2\n",
    "   &= 1 - \\phi_1\n",
    "\\end{aligned}\n",
    "$$\n",
    "\n",
    "となります。同様に、$\\mathbf{x} = (x_1, x_2)$なので\n",
    "\n",
    "$$\n",
    "\\begin{aligned}\n",
    "\\sum_{v=1}^2 x_v\n",
    "   &= 1 \\\\\n",
    "x_1 + x_2\n",
    "   &= 1 \\\\\n",
    "x_2\n",
    "   &= 1 - x_1\n",
    "\\end{aligned}\n",
    "$$\n",
    "\n",
    "となります。よって、$V = 2$のときのカテゴリ分布は\n",
    "\n",
    "$$\n",
    "\\begin{aligned}\n",
    "\\mathrm{Cat}(x | \\phi_1, \\phi_2)\n",
    "   &= \\prod_{v=1}^2\n",
    "          \\phi_v^{x_v} \\\\\n",
    "   &= \\phi_1^{x_1} * \\phi_2^{x_2} \\\\\n",
    "   &= \\phi_1^{x_1} (1 - \\phi_1)^{1 - x_1}\n",
    "        = \\mathrm{Bern}(x | \\phi_1)\n",
    "\\end{aligned}\n",
    "$$\n",
    "\n",
    "ベルヌーイ分布と等しくなります。  \n",
    "\n",
    "　カテゴリ分布の対数をとると\n",
    "\n",
    "$$\n",
    "\\log \\mathrm{Cat}(\\boldsymbol{x} | \\boldsymbol{\\phi})\n",
    "  = \\sum_{v=1}^V\n",
    "        x_v \\log \\phi_v\n",
    "$$\n",
    "\n",
    "となります。対数の性質より$\\log x^a = a \\log x$です。  \n",
    "\n",
    "　カテゴリ分布のクラス$v$における平均と分散は、次の式で計算できます。詳しくは「統計量の導出」を参照してください。\n",
    "\n",
    "$$\n",
    "\\begin{aligned}\n",
    "\\mathbb{E}[x_v]\n",
    "   &= \\phi_v\n",
    "\\\\\n",
    "\\mathbb{V}[x_v]\n",
    "   &= \\phi_v (1 - \\phi_v)\n",
    "\\end{aligned}\n",
    "$$\n",
    "\n",
    "<br>\n",
    "\n",
    "　これらの計算を行いグラフを作成します。  \n",
    "<br>"
   ]
  },
  {
   "cell_type": "markdown",
   "id": "modern-phoenix",
   "metadata": {},
   "source": [
    "## 確率の計算\n",
    "\n",
    "　カテゴリ分布に従う確率を計算する方法をいくつか確認します。  \n",
    "<br>\n",
    "\n",
    "　パラメータを設定します。"
   ]
  },
  {
   "cell_type": "code",
   "execution_count": 3,
   "id": "marked-panel",
   "metadata": {},
   "outputs": [],
   "source": [
    "# パラメータを指定\n",
    "phi_v = np.array([0.2, 0.4, 0.1, 0.3])\n",
    "\n",
    "# 確率変数の値を指定\n",
    "x_v = np.array([0, 1, 0, 0])"
   ]
  },
  {
   "cell_type": "markdown",
   "id": "facial-burden",
   "metadata": {},
   "source": [
    "　カテゴリ分布のパラメータ$\\boldsymbol{\\phi} = (\\phi_1, \\cdots, \\phi_V)$、$0 \\leq \\phi_v \\leq 1$、$\\sum_{v=1}^V \\phi_v = 1$を指定します。  \n",
    "　確率変数がとり得る値$\\mathbf{x} = (x_1, \\cdots, x_V)$、$x_v \\in \\{0, 1\\}$、$\\sum_{v=1}^V x_v = 1$を指定します。  \n",
    "\n",
    "　まずは、定義式から確率を計算します。"
   ]
  },
  {
   "cell_type": "code",
   "execution_count": 4,
   "id": "textile-victim",
   "metadata": {},
   "outputs": [
    {
     "name": "stdout",
     "output_type": "stream",
     "text": [
      "0.4\n"
     ]
    }
   ],
   "source": [
    "# 定義式により確率を計算\n",
    "prob = np.prod(phi_v**x_v)\n",
    "print(prob)"
   ]
  },
  {
   "cell_type": "markdown",
   "id": "alternate-subscriber",
   "metadata": {},
   "source": [
    "　カテゴリ分布の定義式\n",
    "\n",
    "$$\n",
    "p(\\boldsymbol{x} | \\boldsymbol{\\phi})\n",
    "  = \\prod_{v=1}^V\n",
    "        \\phi_v^{x_v}\n",
    "$$\n",
    "\n",
    "で計算します。  \n",
    "\n",
    "　対数をとった定義式から確率を計算します。"
   ]
  },
  {
   "cell_type": "code",
   "execution_count": 5,
   "id": "devoted-announcement",
   "metadata": {},
   "outputs": [
    {
     "name": "stdout",
     "output_type": "stream",
     "text": [
      "0.4 -0.916290731874155\n"
     ]
    }
   ],
   "source": [
    "# 対数をとった定義式により確率を計算\n",
    "log_prob = np.sum(x_v * np.log(phi_v))\n",
    "prob = np.exp(log_prob)\n",
    "print(prob, log_prob)"
   ]
  },
  {
   "cell_type": "markdown",
   "id": "developmental-encyclopedia",
   "metadata": {},
   "source": [
    "　対数をとった定義式\n",
    "\n",
    "$$\n",
    "\\log p(\\boldsymbol{x} | \\boldsymbol{\\phi})\n",
    "  = \\sum_{v=1}^V\n",
    "        x_v \\log \\phi_v\n",
    "$$\n",
    "\n",
    "を計算します。計算結果の指数をとると確率が得られます。\n",
    "\n",
    "$$\n",
    "p(x | \\phi)\n",
    "    = \\exp \\Bigr(\n",
    "          \\log p(x | \\phi)\n",
    "      \\Bigr)\n",
    "$$\n",
    "\n",
    "　指数と対数の性質より$\\exp(\\log x) = x$です。  \n",
    "\n",
    "　次は、関数を使って確率を計算します。  \n",
    "　多項分布のモジュール`multinomial`の確率計算メソッド`pmf()`を使って計算します。"
   ]
  },
  {
   "cell_type": "code",
   "execution_count": 6,
   "id": "express-battle",
   "metadata": {},
   "outputs": [
    {
     "name": "stdout",
     "output_type": "stream",
     "text": [
      "0.4\n"
     ]
    }
   ],
   "source": [
    "# 多項分布の関数により確率を計算\n",
    "prob = multinomial.pmf(x=x_v, n=1, p=phi_v)\n",
    "print(prob)"
   ]
  },
  {
   "cell_type": "markdown",
   "id": "proved-calvin",
   "metadata": {},
   "source": [
    "　試行回数の引数`n`に`1`を指定することで、カテゴリ分布の確率を計算できます。  \n",
    "　出現頻度の引数`x`に`x_v`、出現確率の引数`p`に`phi_v`を指定します。  \n",
    "\n",
    "　`logpmf()`だと対数をとった確率を返します。"
   ]
  },
  {
   "cell_type": "code",
   "execution_count": 7,
   "id": "therapeutic-disease",
   "metadata": {},
   "outputs": [
    {
     "name": "stdout",
     "output_type": "stream",
     "text": [
      "0.4 -0.916290731874155\n"
     ]
    }
   ],
   "source": [
    "# 多項分布の対数をとった関数により確率を計算\n",
    "log_prob = multinomial.logpmf(x=x_v, n=1, p=phi_v)\n",
    "prob = np.exp(log_prob)\n",
    "print(prob, log_prob)"
   ]
  },
  {
   "cell_type": "markdown",
   "id": "final-aspect",
   "metadata": {},
   "source": [
    "　計算結果の指数をとると確率が得られます。  \n",
    "\n",
    "　最後に、スライス機能を使って確率を取り出します。"
   ]
  },
  {
   "cell_type": "code",
   "execution_count": 8,
   "id": "large-portrait",
   "metadata": {},
   "outputs": [
    {
     "name": "stdout",
     "output_type": "stream",
     "text": [
      "0.4\n"
     ]
    }
   ],
   "source": [
    "# インデックスにより確率を抽出\n",
    "v = np.where(x_v == 1)[0][0]\n",
    "prob = phi_v[v]\n",
    "print(prob)"
   ]
  },
  {
   "cell_type": "markdown",
   "id": "nonprofit-duplicate",
   "metadata": {},
   "source": [
    "　`np.where()`を使って、`x_v`から値が`1`の要素のインデックスを検索して`v`とします。  \n",
    "　`phi_v`の`v`番目の要素を抽出します。  \n",
    "<br>"
   ]
  },
  {
   "cell_type": "markdown",
   "id": "psychological-transformation",
   "metadata": {},
   "source": [
    "## 統計量の計算\n",
    "\n",
    "　カテゴリ分布の平均と分散を計算します。  \n",
    "<br>\n",
    "\n",
    "　クラス$v$の平均を計算します。"
   ]
  },
  {
   "cell_type": "code",
   "execution_count": 9,
   "id": "aggregate-banner",
   "metadata": {},
   "outputs": [
    {
     "name": "stdout",
     "output_type": "stream",
     "text": [
      "0.4\n"
     ]
    }
   ],
   "source": [
    "# クラスvの平均を計算\n",
    "E_x = phi_v[v]\n",
    "print(E_x)"
   ]
  },
  {
   "cell_type": "markdown",
   "id": "centered-cable",
   "metadata": {},
   "source": [
    "　カテゴリ分布の平均は、次の式で計算できます。\n",
    "\n",
    "$$\n",
    "\\mathbb{E}[x_v]\n",
    "    = \\phi_v\n",
    "$$\n",
    "\n",
    "　クラス$v$の分散を計算します。"
   ]
  },
  {
   "cell_type": "code",
   "execution_count": 10,
   "id": "informative-montgomery",
   "metadata": {},
   "outputs": [
    {
     "name": "stdout",
     "output_type": "stream",
     "text": [
      "0.24\n"
     ]
    }
   ],
   "source": [
    "# クラスvの分散を計算\n",
    "V_x = phi_v[v] * (1.0 - phi_v[v])\n",
    "print(V_x)"
   ]
  },
  {
   "cell_type": "markdown",
   "id": "internal-senegal",
   "metadata": {},
   "source": [
    "　カテゴリ分布の分散は、次の式で計算できます。\n",
    "\n",
    "$$\n",
    "\\mathbb{V}[x_v]\n",
    "    = \\phi_v (1 - \\phi_v)\n",
    "$$\n",
    "\n",
    "<br>"
   ]
  },
  {
   "cell_type": "markdown",
   "id": "regional-washington",
   "metadata": {},
   "source": [
    "## グラフの作成\n",
    "\n",
    "　`Matplotlib`ライブラリの`PyPlot`モジュールを利用してカテゴリ分布のグラフを作成します。  \n",
    "<br>\n",
    "\n",
    "　カテゴリ分布の確率変数がとり得るクラス$v$と対応する確率を作成します。"
   ]
  },
  {
   "cell_type": "code",
   "execution_count": 11,
   "id": "medium-origin",
   "metadata": {},
   "outputs": [],
   "source": [
    "# パラメータを指定\n",
    "phi_v = np.array([0.2, 0.4, 0.1, 0.3])\n",
    "\n",
    "# クラス数を取得\n",
    "V = len(phi_v)\n",
    "\n",
    "# 作図用のクラス番号を作成\n",
    "v_vals = np.arange(1, V + 1)\n",
    "\n",
    "# 分布を計算\n",
    "probability = phi_v.copy()"
   ]
  },
  {
   "cell_type": "markdown",
   "id": "chubby-milwaukee",
   "metadata": {},
   "source": [
    "　$\\mathbf{x}$によって表されるクラス番号`1`から`V`を`v_vals`、各クラスに対応する確率`phi_v`を`probability`とします。  \n",
    "\n",
    "　`multinomial.pmf()`でも計算できます。"
   ]
  },
  {
   "cell_type": "code",
   "execution_count": 12,
   "id": "sharing-aspect",
   "metadata": {},
   "outputs": [
    {
     "name": "stdout",
     "output_type": "stream",
     "text": [
      "[0.2 0.4 0.1 0.3]\n"
     ]
    }
   ],
   "source": [
    "# 多項分布の関数により分布を計算\n",
    "probability = multinomial.pmf(x=np.identity(V), n=1, p=phi_v)\n",
    "print(probability)"
   ]
  },
  {
   "cell_type": "markdown",
   "id": "human-scheme",
   "metadata": {},
   "source": [
    "　単位行列`np.identity(V)`を使うことで、各クラスの確率`phi_v`を取り出せます。  \n",
    "\n",
    "　カテゴリ分布のグラフを作成します。"
   ]
  },
  {
   "cell_type": "code",
   "execution_count": 13,
   "id": "covered-infrared",
   "metadata": {},
   "outputs": [
    {
     "data": {
      "image/png": "[encoded data removed]",
      "text/plain": [
       "<Figure size 864x576 with 1 Axes>"
      ]
     },
     "metadata": {
      "needs_background": "light"
     },
     "output_type": "display_data"
    }
   ],
   "source": [
    "# カテゴリ分布を作図\n",
    "plt.figure(figsize=(12, 8)) # 図の設定\n",
    "plt.bar(x=v_vals, height=probability, color='#00A968') # 棒グラフ\n",
    "plt.xlabel('v') # x軸ラベル\n",
    "plt.ylabel('probability') # y軸ラベル\n",
    "plt.suptitle('Categorical Distribution', fontsize=20) # 図タイトル\n",
    "plt.title('$\\phi=(' + ', '.join([str(phi) for phi in phi_v]) + ')$', loc='left') # タイトル\n",
    "plt.xticks(ticks=v_vals) # x軸目盛\n",
    "plt.grid() # グリッド線\n",
    "plt.show() # 描画"
   ]
  },
  {
   "cell_type": "markdown",
   "id": "fantastic-playing",
   "metadata": {},
   "source": [
    "　パラメータの値そのままですが、これがカテゴリ分布のグラフです。  \n",
    "<br>"
   ]
  },
  {
   "cell_type": "markdown",
   "id": "small-angel",
   "metadata": {},
   "source": [
    "## パラメータと分布の形状の関係\n",
    "\n",
    "　続いて、パラメータ$\\phi_v$の値を少しずつ変更して、分布の変化をアニメーションで確認します。"
   ]
  },
  {
   "cell_type": "code",
   "execution_count": 14,
   "id": "intended-column",
   "metadata": {},
   "outputs": [
    {
     "name": "stderr",
     "output_type": "stream",
     "text": [
      "MovieWriter ffmpeg unavailable; using Pillow instead.\n"
     ]
    },
    {
     "data": {
      "image/png": "[encoded data removed]",
      "text/plain": [
       "<Figure size 864x576 with 1 Axes>"
      ]
     },
     "metadata": {
      "needs_background": "light"
     },
     "output_type": "display_data"
    }
   ],
   "source": [
    "# 作図用のphi_1の値を作成\n",
    "phi_vals = np.arange(start=0.0, stop=1.0, step=0.01)\n",
    "\n",
    "# クラス数を指定\n",
    "V = 3\n",
    "\n",
    "# 作図用のクラス番号を作成\n",
    "v_vals = np.arange(1, V + 1)\n",
    "\n",
    "# 図を初期化\n",
    "fig = plt.figure(figsize=(12, 8))\n",
    "\n",
    "# 作図処理を関数として定義\n",
    "def update(i):\n",
    "    # 前フレームのグラフを初期化\n",
    "    plt.cla()\n",
    "    \n",
    "    # i回目のphi_1の値を取得\n",
    "    phi_1 = phi_vals[i]\n",
    "    \n",
    "    # phi_1以外の割り当てを指定\n",
    "    phi_v = np.array([phi_1, (1.0 - phi_1) * 0.6, (1.0 - phi_1) * 0.4])\n",
    "    \n",
    "    # カテゴリ分布を作図\n",
    "    plt.bar(x=v_vals, height=phi_v, color='#00A968', zorder=1) # 棒グラフ\n",
    "    plt.xlabel('v') # x軸ラベル\n",
    "    plt.ylabel('Probability') # y軸ラベル\n",
    "    plt.suptitle('Categorical Distribution', fontsize=20) # 図タイトル\n",
    "    plt.title('$\\phi=(' + ', '.join([str(phi) for phi in np.round(phi_v, 2)]) + ')$', loc='left') # タイトル\n",
    "    plt.xticks(ticks=v_vals) # x軸目盛\n",
    "    plt.grid() # グリッド線\n",
    "    plt.ylim(-0.1, 1.1) # y軸の表示範囲\n",
    "\n",
    "# gif画像を作成\n",
    "anime_prob = FuncAnimation(fig, update, frames=len(phi_vals), interval=100)\n",
    "\n",
    "# gif画像を保存\n",
    "anime_prob.save('../figure/Python/Categorical_prob.gif')"
   ]
  },
  {
   "cell_type": "markdown",
   "id": "bizarre-standing",
   "metadata": {},
   "source": [
    "　$\\phi_1$がとり得る値を作成して`phi_vals`とします。  \n",
    "　`phi_vals`の値ごとに`phi_v`を更新して作図します。$\\phi_1$以外の確率の和$1 - \\phi_1$を他のクラスの確率として割り振ります。  \n",
    "\n",
    "　(定義のままですが、)パラメータ$\\phi_1$の値が大きいほど、$x_1 = 1$となる確率が高く、他のクラスとなる確率が低いを確認できます。  \n",
    "<br>"
   ]
  },
  {
   "cell_type": "markdown",
   "id": "naval-update",
   "metadata": {},
   "source": [
    "## 乱数の生成\n",
    "\n",
    "　カテゴリ分布の乱数を生成してヒストグラムを確認します。  \n",
    "<br>\n",
    "\n",
    "　パラメータを指定して、カテゴリ分布に従う乱数を生成します。"
   ]
  },
  {
   "cell_type": "code",
   "execution_count": 15,
   "id": "consolidated-staff",
   "metadata": {},
   "outputs": [
    {
     "name": "stdout",
     "output_type": "stream",
     "text": [
      "[[0 1 0 0]\n",
      " [1 0 0 0]\n",
      " [0 1 0 0]\n",
      " [0 0 0 1]\n",
      " [0 1 0 0]]\n"
     ]
    }
   ],
   "source": [
    "# パラメータを指定\n",
    "phi_v = np.array([0.2, 0.4, 0.1, 0.3])\n",
    "\n",
    "# クラス数を取得\n",
    "V = len(phi_v)\n",
    "\n",
    "# 作図用のクラス番号を作成\n",
    "v_vals = np.arange(1, V + 1)\n",
    "\n",
    "# データ数を指定\n",
    "N = 1000\n",
    "\n",
    "# カテゴリ分布に従う乱数を生成\n",
    "x_nv = np.random.multinomial(n=1, pvals=phi_v, size=N)\n",
    "print(x_nv[:5])"
   ]
  },
  {
   "cell_type": "markdown",
   "id": "every-greene",
   "metadata": {},
   "source": [
    "　多項分布の乱数生成関数`np.random.multinomial()`の試行回数の引数`n `に`1`を指定することで、カテゴリ分布に従う乱数を生成できます。  \n",
    "　成功確率の引数`pvals`に`phi`、データ数(サンプルサイズ)の引数`size`に`N`を指定します。  \n",
    "\n",
    "　各データに割り当てられたクラス番号を抽出します。"
   ]
  },
  {
   "cell_type": "code",
   "execution_count": 16,
   "id": "enhanced-switzerland",
   "metadata": {},
   "outputs": [
    {
     "name": "stdout",
     "output_type": "stream",
     "text": [
      "[1 0 1 3 1]\n"
     ]
    }
   ],
   "source": [
    "# クラス番号を抽出\n",
    "x_n = np.where(x_nv == 1)[1]\n",
    "print(x_n[:5])"
   ]
  },
  {
   "cell_type": "markdown",
   "id": "beautiful-resource",
   "metadata": {},
   "source": [
    "　`np.where()`を使って、`x_nv`の各行から値が`1`の列番号を抽出できます。ここでは`x_n`は使いません。  \n",
    "\n",
    "　サンプルの値を集計します。"
   ]
  },
  {
   "cell_type": "code",
   "execution_count": 17,
   "id": "mechanical-yukon",
   "metadata": {},
   "outputs": [
    {
     "name": "stdout",
     "output_type": "stream",
     "text": [
      "[198 424  80 298]\n"
     ]
    }
   ],
   "source": [
    "# 乱数を集計\n",
    "frequency = np.sum(x_nv, axis=0)\n",
    "print(frequency)"
   ]
  },
  {
   "cell_type": "markdown",
   "id": "ranging-citation",
   "metadata": {},
   "source": [
    "　`x_nv`の各列に含まれる`1`の要素数は、`np.sum(x_n == 0, axis=0)`で得られます。  \n",
    "\n",
    "　ヒストグラムを作成します。"
   ]
  },
  {
   "cell_type": "code",
   "execution_count": 18,
   "id": "breathing-trunk",
   "metadata": {},
   "outputs": [
    {
     "data": {
      "image/png": "[encoded data removed]",
      "text/plain": [
       "<Figure size 864x576 with 1 Axes>"
      ]
     },
     "metadata": {
      "needs_background": "light"
     },
     "output_type": "display_data"
    }
   ],
   "source": [
    "# サンプルのヒストグラムを作成\n",
    "plt.figure(figsize=(12, 8)) # 図の設定\n",
    "plt.bar(x=v_vals, height=frequency, color='#00A968') # ヒストグラム\n",
    "plt.xlabel('v') # x軸ラベル\n",
    "plt.ylabel('frequency') # y軸ラベル\n",
    "plt.suptitle('Bernoulli Distribution', fontsize=20) # 図タイトル\n",
    "plt.title('$\\phi=(' + ', '.join([str(phi) for phi in phi_v]) + ')' + \n",
    "          ', N=' + str(N) +'=(' + ', '.join([str(f) for f in frequency]) + ')$', loc='left') # タイトル\n",
    "plt.xticks(ticks=v_vals) # x軸目盛\n",
    "plt.grid() # グリッド線\n",
    "plt.show() # 描画"
   ]
  },
  {
   "cell_type": "markdown",
   "id": "thick-bleeding",
   "metadata": {},
   "source": [
    "<br>\n",
    "\n",
    "　構成比を分布と重ねて描画します。"
   ]
  },
  {
   "cell_type": "code",
   "execution_count": 19,
   "id": "technological-baseball",
   "metadata": {},
   "outputs": [
    {
     "data": {
      "image/png": "[encoded data removed]",
      "text/plain": [
       "<Figure size 864x576 with 1 Axes>"
      ]
     },
     "metadata": {
      "needs_background": "light"
     },
     "output_type": "display_data"
    }
   ],
   "source": [
    "# サンプルの構成比を作図\n",
    "plt.figure(figsize=(12, 8)) # 図の設定\n",
    "plt.bar(x=v_vals, height=probability, color='white', edgecolor='green', linestyle='--') # 分布\n",
    "plt.bar(x=v_vals, height=frequency / N, color='#00A968', alpha=0.8) # 構成比\n",
    "plt.xlabel('v') # x軸ラベル\n",
    "plt.ylabel('proportion') # y軸ラベル\n",
    "plt.suptitle('Bernoulli Distribution', fontsize=20) # 図タイトル\n",
    "plt.title('$\\phi=(' + ', '.join([str(phi) for phi in phi_v]) + ')' + \n",
    "          ', N=' + str(N) +'=(' + ', '.join([str(f) for f in frequency]) + ')$', loc='left') # タイトル\n",
    "plt.xticks(ticks=v_vals) # x軸目盛\n",
    "plt.grid() # グリッド線\n",
    "plt.show() # 描画"
   ]
  },
  {
   "cell_type": "markdown",
   "id": "surgical-evaluation",
   "metadata": {},
   "source": [
    "　各クラスの頻度`frequency`をデータ数`N`で割り、`0`と`1`の構成比を計算します。  \n",
    "\n",
    "　データ数が十分に増えると分布に形が近づきます。  \n",
    "<br>\n",
    "\n",
    "　サンプルサイズとヒストグラムの変化をアニメーションで確認します。乱数を1つずつ取り出して作図します。  \n",
    "\n",
    "　ヒストグラムのアニメーションを作成します。  "
   ]
  },
  {
   "cell_type": "code",
   "execution_count": 20,
   "id": "fallen-dispute",
   "metadata": {},
   "outputs": [
    {
     "name": "stderr",
     "output_type": "stream",
     "text": [
      "MovieWriter ffmpeg unavailable; using Pillow instead.\n"
     ]
    },
    {
     "data": {
      "image/png": "[encoded data removed]",
      "text/plain": [
       "<Figure size 864x576 with 1 Axes>"
      ]
     },
     "metadata": {
      "needs_background": "light"
     },
     "output_type": "display_data"
    }
   ],
   "source": [
    "# フレーム数を指定\n",
    "N = 100\n",
    "\n",
    "# 図を初期化\n",
    "fig = plt.figure(figsize=(12, 8))\n",
    "\n",
    "# 頻度の最大値を取得\n",
    "y_max = np.max(np.sum(x_nv[:N], axis=0))\n",
    "\n",
    "# 作図処理を関数として定義\n",
    "def update(n):\n",
    "    # 前フレームのグラフを初期化\n",
    "    plt.cla()\n",
    "    \n",
    "    # n個の乱数を集計\n",
    "    frequency = np.sum(x_nv[:(n+1)], axis=0)\n",
    "    \n",
    "    # n番目の乱数のクラスを取得\n",
    "    x_val = np.where(x_nv[n] == 1)[0][0] + 1\n",
    "    \n",
    "    # サンプルのヒストグラムを作成\n",
    "    plt.bar(x=v_vals, height=frequency, color='#00A968', zorder=1) # ヒストグラム\n",
    "    plt.scatter(x=x_val, y=0.0, color='orange', s=100, zorder=2) # サンプル\n",
    "    plt.xlabel('v') # x軸ラベル\n",
    "    plt.ylabel('frequency') # y軸ラベル\n",
    "    plt.suptitle('Categorical Distribution', fontsize=20) # 図タイトル\n",
    "    plt.title('$\\phi=(' + ', '.join([str(phi) for phi in phi_v]) + ')' + \n",
    "              ', N=' + str(n + 1) +'=(' + ', '.join([str(f) for f in frequency]) + ')$', loc='left') # タイトル\n",
    "    plt.xticks(ticks=v_vals) # x軸目盛\n",
    "    plt.grid() # グリッド線\n",
    "    plt.ylim(-1.0, y_max + 1.0) # y軸の表示範囲\n",
    "\n",
    "# gif画像を作成\n",
    "anime_freq = FuncAnimation(fig, update, frames=N, interval=100)\n",
    "\n",
    "# gif画像を保存\n",
    "anime_freq.save('../figure/Python/Categorical_freq.gif')"
   ]
  },
  {
   "cell_type": "markdown",
   "id": "victorian-aging",
   "metadata": {},
   "source": [
    "<br>\n",
    "\n",
    "　構成比のアニメーションを作成します。"
   ]
  },
  {
   "cell_type": "code",
   "execution_count": 21,
   "id": "hazardous-delay",
   "metadata": {},
   "outputs": [
    {
     "name": "stderr",
     "output_type": "stream",
     "text": [
      "MovieWriter ffmpeg unavailable; using Pillow instead.\n"
     ]
    },
    {
     "data": {
      "image/png": "[encoded data removed]",
      "text/plain": [
       "<Figure size 864x576 with 1 Axes>"
      ]
     },
     "metadata": {
      "needs_background": "light"
     },
     "output_type": "display_data"
    }
   ],
   "source": [
    "# 図を初期化\n",
    "fig = plt.figure(figsize=(12, 8))\n",
    "\n",
    "# 作図処理を関数として定義\n",
    "def update(n):\n",
    "    # 前フレームのグラフを初期化\n",
    "    plt.cla()\n",
    "    \n",
    "    # n個の乱数を集計\n",
    "    frequency = np.sum(x_nv[:(n+1)], axis=0)\n",
    "    \n",
    "    # n番目の乱数のクラスを取得\n",
    "    x_val = np.where(x_nv[n] == 1)[0][0] + 1\n",
    "    \n",
    "    # サンプルの構成比を作成\n",
    "    plt.bar(x=v_vals, height=probability, color='white', edgecolor='green', linestyle='--', zorder=1) # 分布\n",
    "    plt.bar(x=v_vals, height=frequency / (n + 1), color='#00A968', alpha=0.8, zorder=2) # 構成比\n",
    "    plt.scatter(x=x_val, y=0.0, color='orange', s=100, zorder=3) # サンプル\n",
    "    plt.xlabel('v') # x軸ラベル\n",
    "    plt.ylabel('proportion') # y軸ラベル\n",
    "    plt.suptitle('Categorical Distribution', fontsize=20) # 図タイトル\n",
    "    plt.title('$\\phi=(' + ', '.join([str(phi) for phi in phi_v]) + ')' + \n",
    "              ', N=' + str(n + 1) +'=(' + ', '.join([str(f) for f in frequency]) + ')$', loc='left') # タイトル\n",
    "    plt.xticks(ticks=v_vals) # x軸目盛\n",
    "    plt.grid() # グリッド線\n",
    "    plt.ylim(-0.1, 1.1) # y軸の表示範囲\n",
    "\n",
    "# gif画像を作成\n",
    "anime_prop = FuncAnimation(fig, update, frames=N, interval=100)\n",
    "\n",
    "# gif画像を保存\n",
    "anime_prop.save('../figure/Python/Categorical_prop.gif')"
   ]
  },
  {
   "cell_type": "markdown",
   "id": "dedicated-worst",
   "metadata": {},
   "source": [
    "　サンプルが増えるに従って、真の分布に近付いていくのを確認できます。  \n",
    "\n",
    "　以上で、カテゴリ分布を確認できました。  \n",
    "<br>"
   ]
  }
 ],
 "metadata": {
  "kernelspec": {
   "display_name": "Python 3",
   "language": "python",
   "name": "python3"
  },
  "language_info": {
   "codemirror_mode": {
    "name": "ipython",
    "version": 3
   },
   "file_extension": ".py",
   "mimetype": "text/x-python",
   "name": "python",
   "nbconvert_exporter": "python",
   "pygments_lexer": "ipython3",
   "version": "3.7.10"
  }
 },
 "nbformat": 4,
 "nbformat_minor": 5
}
