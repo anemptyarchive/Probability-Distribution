{
 "cells": [
  {
   "cell_type": "markdown",
   "id": "alternative-andrews",
   "metadata": {},
   "source": [
    "# 確率分布の作図\n",
    "\n",
    "- 執筆期間：2022/01/11 - 2022/01/13"
   ]
  },
  {
   "cell_type": "code",
   "execution_count": 1,
   "id": "sacred-painting",
   "metadata": {},
   "outputs": [
    {
     "name": "stdout",
     "output_type": "stream",
     "text": [
      "更新日時：2022-01-14 03:50\n"
     ]
    }
   ],
   "source": [
    "# 更新日時を出力\n",
    "import datetime\n",
    "now = datetime.datetime.now()\n",
    "print('更新日時：' + '{0:%Y-%m-%d %H:%M}'.format(now))"
   ]
  },
  {
   "cell_type": "markdown",
   "id": "elder-marker",
   "metadata": {},
   "source": [
    "<br>"
   ]
  },
  {
   "cell_type": "markdown",
   "id": "sporting-examination",
   "metadata": {},
   "source": [
    "# 二項分布\n",
    "\n",
    "　二項分布(Binomial Distribution)の計算と作図を行います。  \n",
    "<br>\n",
    "\n",
    "　利用するライブラリを読み込みます。"
   ]
  },
  {
   "cell_type": "code",
   "execution_count": 2,
   "id": "alone-router",
   "metadata": {},
   "outputs": [],
   "source": [
    "# 利用するライブラリ\n",
    "import numpy as np\n",
    "from scipy.stats import binom, multinomial # 二項分布, 多項分布\n",
    "from scipy.special import gamma, loggamma # ガンマ関数, 対数ガンマ関数\n",
    "import matplotlib.pyplot as plt\n",
    "from matplotlib.animation import FuncAnimation"
   ]
  },
  {
   "cell_type": "markdown",
   "id": "dense-bread",
   "metadata": {},
   "source": [
    "　分布の変化をアニメーション(gif画像)で確認するのに`matplotlib`ライブラリの`animation`モジュールを利用します。  \n",
    "<br>"
   ]
  },
  {
   "cell_type": "markdown",
   "id": "prescribed-scratch",
   "metadata": {},
   "source": [
    "## 定義式の確認\n",
    "\n",
    "　表(当たり)の出る確率が$\\phi$であるコイン(くじ)を$M$回試行するとき、表(当たり)の出る回数$x$の確率分布を二項分布と言います。  \n",
    "　$x$は、コインを$M$回投げて表が出た回数なので、全て裏のときの0から全て表のときの$M$の整数になります。$x$が0から$M$の値をとることを$x = \\{0, 1, \\cdots, M\\}$で表します。  \n",
    "　ベルヌーイ分布と同様に、成功確率(表・当たりとなる確率)を$0 \\leq \\phi \\leq 1$、失敗確率(裏・外れとなる確率)を$1 - \\phi$とします。  \n",
    "\n",
    "　二項分布は、パラメータ$\\phi$を用いて次の式で定義されます。\n",
    "\n",
    "$$\n",
    "\\mathrm{Bin}(x | M, \\phi)\n",
    "    = \\frac{M!}{(M - x)! x!} \\phi^x (1 - \\phi)^{M-x}\n",
    "$$\n",
    "\n",
    "　ここで、正規化項\n",
    "\n",
    "$$\n",
    "{}_M\\mathrm{C}_x\n",
    "    = \\frac{M!}{(M - x)! x!}\n",
    "$$\n",
    "\n",
    "は、試行回数が$M$回のとき表が$x$回となる組合せの数に対応します。  \n",
    "\n",
    "　例えば、コインを3回投げて($M = 3$で)表が2回出る($x = 2$となる)とき、二項分布の式は\n",
    "\n",
    "$$\n",
    "\\begin{aligned}\n",
    "\\mathrm{Bin}(x = 2 | M = 3, \\phi)\n",
    "   &= \\frac{3!}{(3 - 2)! 2!}\n",
    "      \\phi^2\n",
    "      (1 - \\phi)^{3-2} \\\\\n",
    "   &= 3 \\phi^2 (1 - \\phi)\n",
    "\\end{aligned}\n",
    "$$\n",
    "\n",
    "表が2回出る確率$\\phi^2$と裏が1回出る確率$1 - \\phi$と正規化項の積となります。このとき正規化項は、3回中2回表となる組み合わせを表し、「表・表・裏」「表・裏・表」「裏・表・表」の3通りであることを求めています。  \n",
    "　このように、$x$の値に対応した確率となるように式が定義されています。  \n",
    "<br>\n",
    "\n",
    "　また試行回数が1回($M = 1$)のとき、二項分布は\n",
    "\n",
    "$$\n",
    "\\begin{aligned}\n",
    "\\mathrm{Bin}(x | 1, \\phi)\n",
    "   &= \\frac{1!}{(1 - x)! x!}\n",
    "      \\phi^x\n",
    "      (1 - \\phi)^{1-x} \\\\\n",
    "   &= \\frac{1!}{1! 0!}\n",
    "      \\phi^x\n",
    "      (1 - \\phi)^{1-x} \\\\\n",
    "   &= \\phi^x\n",
    "      (1 - \\phi)^{1-x}\n",
    "          = \\mathrm{Bern}(x | \\phi)\n",
    "\\end{aligned}\n",
    "$$\n",
    "\n",
    "ベルヌーイ分布と等しくなります。階乗の定義より$0! = 1$なので、$x$が0か1のどちらであっても正規化項は1になります。  \n",
    "　ベルヌーイ分布は、コインを1回投げて表が1回出ることを$x = 1$、表が1回も出ない(裏が出る)ことを$x = 0$で表していると言えます。  \n",
    "\n",
    "　二項分布の対数をとると\n",
    "\n",
    "$$\n",
    "\\begin{aligned}\n",
    "\\log \\mathrm{Bin}(x | N, \\phi)\n",
    "   &= \\log N! - \\log (N - x)! - \\log x! \\\\\n",
    "   &\\quad\n",
    "      + x \\log \\phi + (N - x) \\log (1 - \\phi)\n",
    "\\end{aligned}\n",
    "$$\n",
    "\n",
    "となります。対数の性質より$\\log x^a = a \\log x$です。  \n",
    "\n",
    "　二項分布の平均と分散は、次の式で計算できます。詳しくは「統計量の導出」を参照してください。\n",
    "\n",
    "$$\n",
    "\\begin{aligned}\n",
    "\\mathbb{E}[x]\n",
    "   &= M \\phi\n",
    "\\\\\n",
    "\\mathbb{V}[x]\n",
    "   &= M \\phi (1 - \\phi)\n",
    "\\end{aligned}\n",
    "$$\n",
    "\n",
    "<br>\n",
    "\n",
    "　これらの計算を行いグラフを作成します。  \n",
    "<br>"
   ]
  },
  {
   "cell_type": "markdown",
   "id": "ancient-industry",
   "metadata": {},
   "source": [
    "## 確率の計算\n",
    "\n",
    "　二項分布に従う確率を計算する方法をいくつか確認します。  \n",
    "<br>\n",
    "\n",
    "　パラメータを設定します。"
   ]
  },
  {
   "cell_type": "code",
   "execution_count": 3,
   "id": "beneficial-copyright",
   "metadata": {},
   "outputs": [],
   "source": [
    "# パラメータを指定\n",
    "phi = 0.3\n",
    "\n",
    "# 試行回数を指定\n",
    "M = 10\n",
    "\n",
    "# 確率変数の値を指定:(x <= M)\n",
    "x = 3"
   ]
  },
  {
   "cell_type": "markdown",
   "id": "clean-lighting",
   "metadata": {},
   "source": [
    "　二項分布のパラメータ$0 \\leq \\phi \\leq 1$、試行回数$M$、確率変数がとり得る値$x \\in \\{0, 1, \\cdots, M\\}$を指定します。設定した値に従う確率を計算します。  \n",
    "\n",
    "　まずは、定義式から確率を計算します。"
   ]
  },
  {
   "cell_type": "code",
   "execution_count": 4,
   "id": "competent-exclusive",
   "metadata": {},
   "outputs": [
    {
     "name": "stdout",
     "output_type": "stream",
     "text": [
      "0.2668279319999998\n"
     ]
    }
   ],
   "source": [
    "# 定義式により確率を計算\n",
    "C = gamma(M + 1) / gamma(M - x + 1) / gamma(x + 1)\n",
    "prob = C * phi**x * (1 - phi)**(M - x)\n",
    "print(prob)"
   ]
  },
  {
   "cell_type": "markdown",
   "id": "czech-suffering",
   "metadata": {},
   "source": [
    "　二項分布の定義式\n",
    "\n",
    "$$\n",
    "\\begin{aligned}\n",
    "C_{\\mathrm{Bin}}\n",
    "   &= \\frac{M!}{(M - x)! x!}\n",
    "\\\\\n",
    "p(x | \\phi)\n",
    "   &= C_{\\mathrm{Bin}} \\phi^x (1 - \\phi)^{M-x}\n",
    "\\end{aligned}\n",
    "$$\n",
    "\n",
    "で計算します。$C_{\\mathrm{Bin}}$は、二項分布の正規化係数です。  \n",
    "　階乗$x!$の計算は、ガンマ関数$\\Gamma(x + 1) = x!$に置き換えて計算します。ガンマ関数は、`SciPy`ライブラリの`special`モジュールの`gamma()`で計算できます。  \n",
    "\n",
    "　対数をとった定義式から計算します。"
   ]
  },
  {
   "cell_type": "code",
   "execution_count": 5,
   "id": "comic-provision",
   "metadata": {},
   "outputs": [
    {
     "name": "stdout",
     "output_type": "stream",
     "text": [
      "0.2668279319999998 -1.321151277766889\n"
     ]
    }
   ],
   "source": [
    "# 対数をとった定義式により確率を計算\n",
    "log_C = loggamma(M + 1) - loggamma(M - x + 1) - loggamma(x + 1)\n",
    "log_prob = log_C + x * np.log(phi) + (M - x) * np.log(1 - phi)\n",
    "pron = np.exp(log_prob)\n",
    "print(prob, log_prob)"
   ]
  },
  {
   "cell_type": "markdown",
   "id": "manual-michigan",
   "metadata": {},
   "source": [
    "　対数をとった定義式\n",
    "\n",
    "$$\n",
    "\\begin{aligned}\n",
    "\\log C_{\\mathrm{Bin}}\n",
    "   &= \\log M! - \\log (M - x)! - \\log x!\n",
    "\\\\\n",
    "\\log p(x | \\phi)\n",
    "   &= \\log C_{\\mathrm{Bin}}\n",
    "      + x \\log \\phi\n",
    "      + (N - x) \\log (1 - \\phi)\n",
    "\\end{aligned}\n",
    "$$\n",
    "\n",
    "を計算します。  \n",
    "　対数をとったガンマ関数は`loggamma()`で計算できます。  \n",
    "　計算結果の指数をとると確率が得られます。\n",
    "\n",
    "$$\n",
    "p(x | \\phi)\n",
    "    = \\exp \\Bigr(\n",
    "          \\log p(x | \\phi)\n",
    "      \\Bigr)\n",
    "$$\n",
    "\n",
    "　指数と対数の性質より$\\exp(\\log x) = x$です。  \n",
    "\n",
    "　次は、`SciPy`ライブラリのモジュールを使って確率を計算します。  \n",
    "　二項分布のモジュール`binom`の確率計算メソッド`pmf()`を使って計算します。"
   ]
  },
  {
   "cell_type": "code",
   "execution_count": 6,
   "id": "assisted-satisfaction",
   "metadata": {},
   "outputs": [
    {
     "name": "stdout",
     "output_type": "stream",
     "text": [
      "0.26682793200000016\n"
     ]
    }
   ],
   "source": [
    "# 二項分布の関数により確率を計算\n",
    "prob = binom.pmf(k=x, n=M, p=phi)\n",
    "print(prob)"
   ]
  },
  {
   "cell_type": "markdown",
   "id": "banner-health",
   "metadata": {},
   "source": [
    "　成功回数の引数`k`に`x`、試行回数の引数`n`に`M`、成功確率の引数`p`に`phi`を指定します。  \n",
    "\n",
    "　`logpmf()`だと対数をとった確率を計算します。"
   ]
  },
  {
   "cell_type": "code",
   "execution_count": 7,
   "id": "magnetic-legislation",
   "metadata": {},
   "outputs": [
    {
     "name": "stdout",
     "output_type": "stream",
     "text": [
      "0.26682793200000016 -1.3211512777668881\n"
     ]
    }
   ],
   "source": [
    "# 二項分布の対数をとった関数により確率を計算\n",
    "log_prob = binom.logpmf(k=x, n=M, p=phi)\n",
    "prob = np.exp(log_prob)\n",
    "print(prob, log_prob)"
   ]
  },
  {
   "cell_type": "markdown",
   "id": "animal-backing",
   "metadata": {},
   "source": [
    "　計算結果の指数をとると確率が得られます。  \n",
    "\n",
    "　以降の計算は、変数とパラメータをベクトル形式にしておく必要があります。"
   ]
  },
  {
   "cell_type": "code",
   "execution_count": 8,
   "id": "senior-mainstream",
   "metadata": {},
   "outputs": [],
   "source": [
    "# ベクトルに変換\n",
    "x_v = np.array([M - x, x])\n",
    "phi_v = np.array([1.0 - phi, phi])"
   ]
  },
  {
   "cell_type": "markdown",
   "id": "strange-catalog",
   "metadata": {},
   "source": [
    "　失敗確率(クラス0の出現確率)$1 - \\phi$と成功確率(クラス1の出現確率)$\\phi$を持つ配列を作成して`phi_v`とします。  \n",
    "　失敗回数(クラス0の出現頻度)$M - x$と成功回数(クラス1の出現頻度)$x$を持つ配列を作成して`x_v`とします。  \n",
    "\n",
    "　多項分布のモジュール`multinomial`の確率計算メソッド`pmf()`を使って計算します。"
   ]
  },
  {
   "cell_type": "code",
   "execution_count": 9,
   "id": "excited-hazard",
   "metadata": {},
   "outputs": [
    {
     "name": "stdout",
     "output_type": "stream",
     "text": [
      "0.2668279319999999\n"
     ]
    }
   ],
   "source": [
    "# 多項分布の関数により確率を計算\n",
    "prob = multinomial.pmf(x=x_v, n=M, p=phi_v)\n",
    "print(prob)"
   ]
  },
  {
   "cell_type": "markdown",
   "id": "classified-worker",
   "metadata": {},
   "source": [
    "　出現頻度の引数`x`に`x_v`、試行回数の引数`n`に`M`、出現確率の引数`p`に`phi_v`を指定します。  \n",
    "\n",
    "　`logpmf()`だと対数をとった確率を計算します。"
   ]
  },
  {
   "cell_type": "code",
   "execution_count": 10,
   "id": "armed-converter",
   "metadata": {},
   "outputs": [
    {
     "name": "stdout",
     "output_type": "stream",
     "text": [
      "0.2668279319999999 -1.321151277766889\n"
     ]
    }
   ],
   "source": [
    "# 多項分布の対数をとった関数により確率を計算\n",
    "log_prob = multinomial.logpmf(x=x_v, n=M, p=phi_v)\n",
    "prob = np.exp(log_prob)\n",
    "print(prob, log_prob)"
   ]
  },
  {
   "cell_type": "markdown",
   "id": "yellow-design",
   "metadata": {},
   "source": [
    "　計算結果の指数をとると確率が得られます。  \n",
    "<br>"
   ]
  },
  {
   "cell_type": "markdown",
   "id": "younger-dryer",
   "metadata": {},
   "source": [
    "## 統計量の計算\n",
    "\n",
    "　二項分布の平均と分散を計算します。  \n",
    "<br>\n",
    "\n",
    "　平均を計算します。"
   ]
  },
  {
   "cell_type": "code",
   "execution_count": 11,
   "id": "secondary-hawaiian",
   "metadata": {},
   "outputs": [
    {
     "name": "stdout",
     "output_type": "stream",
     "text": [
      "3.0\n"
     ]
    }
   ],
   "source": [
    "# 平均を計算\n",
    "E_x = M * phi\n",
    "print(E_x)"
   ]
  },
  {
   "cell_type": "markdown",
   "id": "sealed-cinema",
   "metadata": {},
   "source": [
    "　二項分布の平均は、次の式で計算できます。\n",
    "\n",
    "$$\n",
    "\\mathbb{E}[x]\n",
    "    = M \\phi\n",
    "$$\n",
    "\n",
    "　二項分布のモジュールの平均メソッド`mean()`でも計算できます。"
   ]
  },
  {
   "cell_type": "code",
   "execution_count": 12,
   "id": "similar-basket",
   "metadata": {},
   "outputs": [
    {
     "name": "stdout",
     "output_type": "stream",
     "text": [
      "3.0\n"
     ]
    }
   ],
   "source": [
    "# ベルヌーイ分布の関数により平均を計算\n",
    "print(binom.mean(n=M, p=phi))"
   ]
  },
  {
   "cell_type": "markdown",
   "id": "vertical-bahamas",
   "metadata": {},
   "source": [
    "　確率計算と同様に引数を指定します。  \n",
    "\n",
    "　分散を計算します。"
   ]
  },
  {
   "cell_type": "code",
   "execution_count": 13,
   "id": "great-northwest",
   "metadata": {},
   "outputs": [
    {
     "name": "stdout",
     "output_type": "stream",
     "text": [
      "2.0999999999999996\n"
     ]
    }
   ],
   "source": [
    "# 分散を計算\n",
    "V_x = M * phi * (1.0 - phi)\n",
    "print(V_x)"
   ]
  },
  {
   "cell_type": "markdown",
   "id": "operational-region",
   "metadata": {},
   "source": [
    "　二項分布の分散は、次の式で計算できます。\n",
    "\n",
    "$$\n",
    "\\mathbb{V}[x]\n",
    "    = M \\phi (1 - \\phi)\n",
    "$$\n",
    "\n",
    "　`var()`メソッドで分散を計算できます。"
   ]
  },
  {
   "cell_type": "code",
   "execution_count": 14,
   "id": "tribal-romania",
   "metadata": {},
   "outputs": [
    {
     "name": "stdout",
     "output_type": "stream",
     "text": [
      "2.0999999999999996\n"
     ]
    }
   ],
   "source": [
    "# ベルヌーイ分布の関数により分散を計算\n",
    "print(binom.var(n=M, p=phi))"
   ]
  },
  {
   "cell_type": "markdown",
   "id": "eleven-girlfriend",
   "metadata": {},
   "source": [
    "　こちらも同様に引数を指定します。  \n",
    "<br>"
   ]
  },
  {
   "cell_type": "markdown",
   "id": "atlantic-anderson",
   "metadata": {},
   "source": [
    "## グラフの作成\n",
    "\n",
    "　`Matplotlib`ライブラリの`PyPlot`モジュールを利用してベルヌーイ分布のグラフを作成します。  \n",
    "<br>\n",
    "\n",
    "　二項分布の確率変数$x$がとり得る値ごとの確率を計算します。"
   ]
  },
  {
   "cell_type": "code",
   "execution_count": 15,
   "id": "center-advertiser",
   "metadata": {},
   "outputs": [
    {
     "name": "stdout",
     "output_type": "stream",
     "text": [
      "[0.02824752 0.12106082 0.23347444 0.26682793 0.20012095]\n"
     ]
    }
   ],
   "source": [
    "# 作図用のxの値を作成\n",
    "x_vals = np.arange(M + 1)\n",
    "\n",
    "# 分布を計算\n",
    "probability = binom.pmf(k=x_vals, n=M, p=phi)\n",
    "print(probability[:5])"
   ]
  },
  {
   "cell_type": "markdown",
   "id": "useful-michael",
   "metadata": {},
   "source": [
    "　$x$がとり得る値`0`から`M`を作成して`x_vals`とします。  \n",
    "　`x_vals`の各値となる確率を計算します。  \n",
    "\n",
    "　二項分布のグラフを作成します。"
   ]
  },
  {
   "cell_type": "code",
   "execution_count": 16,
   "id": "hired-papua",
   "metadata": {},
   "outputs": [
    {
     "data": {
      "image/png": "[encoded data removed]",
      "text/plain": [
       "<Figure size 864x576 with 1 Axes>"
      ]
     },
     "metadata": {
      "needs_background": "light"
     },
     "output_type": "display_data"
    }
   ],
   "source": [
    "# 二項分布を作図\n",
    "plt.figure(figsize=(12, 8)) # 図の設定\n",
    "plt.bar(x=x_vals, height=probability, color='#00A968') # 棒グラフ\n",
    "#plt.vlines(x=E_x, ymin=0.0, ymax=np.max(probability), color='orange', linestyle='--', label='$E[x]$') # 平均\n",
    "#plt.vlines(x=E_x - V_x, ymin=0.0, ymax=np.max(probability), color='orange', linestyle=':', label='$E[x] - \\sqrt{V[x]}$') # 平均 - 標準偏差\n",
    "#plt.vlines(x=E_x + V_x, ymin=0.0, ymax=np.max(probability), color='orange', linestyle=':', label='$E[x] + \\sqrt{V[x]}$') # 平均 + 標準偏差\n",
    "plt.xlabel('x') # x軸ラベル\n",
    "plt.ylabel('probability') # y軸ラベル\n",
    "plt.suptitle('Binomial Distribution', fontsize=20) # 図タイトル\n",
    "plt.title('$\\phi=' + str(phi) + ', M=' + str(M) + '$', loc='left') # タイトル\n",
    "plt.xticks(ticks=x_vals) # x軸目盛\n",
    "#plt.legend() # 凡例\n",
    "plt.grid() # グリッド線\n",
    "plt.show() # 描画"
   ]
  },
  {
   "cell_type": "markdown",
   "id": "sublime-yield",
   "metadata": {},
   "source": [
    "　二項分布のグラフを描画できました。  \n",
    "<br>"
   ]
  },
  {
   "cell_type": "markdown",
   "id": "upset-perth",
   "metadata": {},
   "source": [
    "## パラメータとグラフの形状の関係\n",
    "\n",
    "　続いて、パラメータ$\\phi$の値を少しずつ変更して、分布の変化をアニメーションで確認します。"
   ]
  },
  {
   "cell_type": "code",
   "execution_count": 17,
   "id": "regulation-relay",
   "metadata": {},
   "outputs": [
    {
     "name": "stderr",
     "output_type": "stream",
     "text": [
      "MovieWriter ffmpeg unavailable; using Pillow instead.\n"
     ]
    },
    {
     "data": {
      "image/png": "[encoded data removed]",
      "text/plain": [
       "<Figure size 864x576 with 1 Axes>"
      ]
     },
     "metadata": {
      "needs_background": "light"
     },
     "output_type": "display_data"
    }
   ],
   "source": [
    "# 作図用のphiの値を作成\n",
    "phi_vals = np.arange(start=0.0, stop=1.01, step=0.01)\n",
    "\n",
    "# 図を初期化\n",
    "fig = plt.figure(figsize=(12, 8))\n",
    "\n",
    "# 作図処理を関数として定義\n",
    "def update(i):\n",
    "    # 前フレームのグラフを初期化\n",
    "    plt.cla()\n",
    "    \n",
    "    # i回目の値を取得\n",
    "    phi = phi_vals[i]\n",
    "    \n",
    "    # 分布を計算\n",
    "    probability = binom.pmf(k=x_vals, n=M, p=phi)\n",
    "    \n",
    "    # 二項分布を作図\n",
    "    plt.bar(x=x_vals, height=probability, color='#00A968') # 棒グラフ\n",
    "    plt.xlabel('x') # x軸ラベル\n",
    "    plt.ylabel('probability') # y軸ラベル\n",
    "    plt.suptitle('Binomial Distribution', fontsize=20) # 図タイトル\n",
    "    plt.title('$\\phi=' + str(np.round(phi, 2)) + ', M=' + str(M) + '$', loc='left') # タイトル\n",
    "    plt.xticks(ticks=x_vals) # x軸目盛\n",
    "    plt.grid() # グリッド線\n",
    "    plt.ylim(-0.1, 1.1) # y軸の表示範囲\n",
    "\n",
    "# gif画像を作成\n",
    "anime_prob = FuncAnimation(fig, update, frames=len(phi_vals), interval=100)\n",
    "\n",
    "# gif画像を保存\n",
    "anime_prob.save('../figure/Python/Binomial_prob_phi.gif')"
   ]
  },
  {
   "cell_type": "markdown",
   "id": "steady-density",
   "metadata": {},
   "source": [
    "　$\\phi$がとり得る値を作成して`phi_vals`とします。  \n",
    "　`phi_vals`の値ごとに分布を計算して作図します。\n",
    "\n",
    "　パラメータ$\\phi$の値が大きくなるのに従って、成功回数$x$が大きいほど確率が高くなる(山が右に移動する)のを確認できます。  \n",
    "\n",
    "　続いて、$\\phi$を固定して$M$を変更してみます。"
   ]
  },
  {
   "cell_type": "code",
   "execution_count": 18,
   "id": "spectacular-platinum",
   "metadata": {},
   "outputs": [
    {
     "name": "stderr",
     "output_type": "stream",
     "text": [
      "MovieWriter ffmpeg unavailable; using Pillow instead.\n"
     ]
    },
    {
     "data": {
      "image/png": "[encoded data removed]",
      "text/plain": [
       "<Figure size 864x576 with 1 Axes>"
      ]
     },
     "metadata": {
      "needs_background": "light"
     },
     "output_type": "display_data"
    }
   ],
   "source": [
    "# パラメータを指定\n",
    "phi = 0.3\n",
    "\n",
    "# 試行回数の最大値を指定\n",
    "M_max = 100\n",
    "\n",
    "# 図を初期化\n",
    "fig = plt.figure(figsize=(12, 8))\n",
    "\n",
    "# 作図処理を関数として定義\n",
    "def update(M):\n",
    "    # 前フレームのグラフを初期化\n",
    "    plt.cla()\n",
    "    \n",
    "    # 作図用のxの値を作成\n",
    "    x_vals = np.arange(M + 1)\n",
    "    \n",
    "    # 分布を計算\n",
    "    probability = binom.pmf(k=x_vals, n=M, p=phi)\n",
    "    \n",
    "    # 二項分布を作図\n",
    "    plt.bar(x=x_vals, height=probability, color='#00A968') # 棒グラフ\n",
    "    plt.xlabel('x') # x軸ラベル\n",
    "    plt.ylabel('probability') # y軸ラベル\n",
    "    plt.suptitle('Binomial Distribution', fontsize=20) # 図タイトル\n",
    "    plt.title('$\\phi=' + str(np.round(phi, 2)) + ', M=' + str(M) + '$', loc='left') # タイトル\n",
    "    #plt.xticks(ticks=x_vals) # x軸目盛\n",
    "    plt.grid() # グリッド線\n",
    "    plt.ylim(-0.1, 1.1) # y軸の表示範囲\n",
    "\n",
    "# gif画像を作成\n",
    "anime_prob = FuncAnimation(fig, update, frames=M_max, interval=100)\n",
    "\n",
    "# gif画像を保存\n",
    "anime_prob.save('../figure/Python/Binomial_prob_M.gif')"
   ]
  },
  {
   "cell_type": "markdown",
   "id": "smoking-speed",
   "metadata": {},
   "source": [
    "　試行回数$M$の最大値(フレーム数)を`M_max`に指定します。  \n",
    "　`0`から`M_max - 1`まで順番に`M`の値が更新され、`x_vals`の要素も更新されます。  \n",
    "　更新された`x_vals`に対して分布を計算して作図します。  \n",
    "\n",
    "　$M$が増えるのに従って、成功回数$x$が大きいほど確率が高くなる(山が右に移動する)のを確認できます。ただし、$x$がとり得る値の範囲`x_vals`も広がっていくため、`x_vals`全体における山の位置は変わりません。  \n",
    "<br>"
   ]
  },
  {
   "cell_type": "markdown",
   "id": "voluntary-feelings",
   "metadata": {},
   "source": [
    "## 乱数の生成\n",
    "\n",
    "　二項分布の乱数を生成してヒストグラムを確認します。  \n",
    "<br>\n",
    "\n",
    "　パラメータを指定して、二項分布に従う乱数を生成します。"
   ]
  },
  {
   "cell_type": "code",
   "execution_count": 19,
   "id": "stuffed-caribbean",
   "metadata": {},
   "outputs": [
    {
     "name": "stdout",
     "output_type": "stream",
     "text": [
      "[1 6 2 1 1]\n"
     ]
    }
   ],
   "source": [
    "# パラメータを指定\n",
    "phi = 0.3\n",
    "\n",
    "# 試行回数を指定\n",
    "M = 10\n",
    "\n",
    "# データ数を指定\n",
    "N = 1000\n",
    "\n",
    "# 二項分布に従う乱数を生成\n",
    "x_n = np.random.binomial(n=M, p=phi, size=N)\n",
    "\n",
    "# 確認\n",
    "print(x_n[:5])"
   ]
  },
  {
   "cell_type": "markdown",
   "id": "hispanic-error",
   "metadata": {},
   "source": [
    "　二項分布の乱数生成関数`np.random.binomial()`の試行回数の引数`n `に`M`、成功確率の引数`p`に`phi`、データ数(サンプルサイズ)の引数`size`に`N`を指定します。  \n",
    "\n",
    "　サンプルの値を集計します。"
   ]
  },
  {
   "cell_type": "code",
   "execution_count": 20,
   "id": "human-purchase",
   "metadata": {},
   "outputs": [
    {
     "name": "stdout",
     "output_type": "stream",
     "text": [
      "[ 30 113 248 277 179]\n"
     ]
    }
   ],
   "source": [
    "# 乱数を集計\n",
    "frequency = np.array([np.sum(x_n == m) for m in range(M + 1)])\n",
    "print(frequency[:5])"
   ]
  },
  {
   "cell_type": "markdown",
   "id": "selective-pharmacology",
   "metadata": {},
   "source": [
    "　`x_n`に含まれる値が`m`の要素数は、`np.sum(x_n == m)`で得られます。  \n",
    "　リスト内包表記で、`0`から`M`までカウントして配列に格納します。  \n",
    "\n",
    "　ヒストグラムを作成します。"
   ]
  },
  {
   "cell_type": "code",
   "execution_count": 21,
   "id": "statistical-walker",
   "metadata": {},
   "outputs": [
    {
     "data": {
      "image/png": "[encoded data removed]",
      "text/plain": [
       "<Figure size 864x576 with 1 Axes>"
      ]
     },
     "metadata": {
      "needs_background": "light"
     },
     "output_type": "display_data"
    }
   ],
   "source": [
    "# サンプルのヒストグラムを作成\n",
    "plt.figure(figsize=(12, 8)) # 図の設定\n",
    "plt.bar(x=x_vals, height=frequency, color='#00A968') # ヒストグラム\n",
    "plt.xlabel('x') # x軸ラベル\n",
    "plt.ylabel('frequency') # y軸ラベル\n",
    "plt.suptitle('Binomial Distribution', fontsize=20) # 図タイトル\n",
    "plt.title('$\\phi=' + str(phi) + ', N=' + str(N) + \n",
    "          '=(' + ', '.join([str(f) for f in frequency]) + ')$', loc='left') # タイトル\n",
    "plt.xticks(ticks=x_vals) # x軸目盛\n",
    "plt.grid() # グリッド線\n",
    "plt.show() # 描画"
   ]
  },
  {
   "cell_type": "markdown",
   "id": "basic-royal",
   "metadata": {},
   "source": [
    "<br>\n",
    "\n",
    "　構成比を分布と重ねて描画します。"
   ]
  },
  {
   "cell_type": "code",
   "execution_count": 22,
   "id": "quarterly-cruise",
   "metadata": {},
   "outputs": [
    {
     "data": {
      "image/png": "[encoded data removed]",
      "text/plain": [
       "<Figure size 864x576 with 1 Axes>"
      ]
     },
     "metadata": {
      "needs_background": "light"
     },
     "output_type": "display_data"
    }
   ],
   "source": [
    "# サンプルの構成比を作図\n",
    "plt.figure(figsize=(12, 8)) # 図の設定\n",
    "plt.bar(x=x_vals, height=probability, color='white', edgecolor='green', linestyle='--') # 分布\n",
    "plt.bar(x=x_vals, height=frequency / N, color='#00A968', alpha=0.8) # 構成比\n",
    "plt.xlabel('x') # x軸ラベル\n",
    "plt.ylabel('proportion') # y軸ラベル\n",
    "plt.suptitle('Binomial Distribution', fontsize=20) # 図タイトル\n",
    "plt.title('$\\phi=' + str(phi) + ', N=' + str(N) + \n",
    "          '=(' + ', '.join([str(f) for f in frequency]) + ')$', loc='left') # タイトル\n",
    "plt.xticks(ticks=x_vals) # x軸目盛\n",
    "plt.grid() # グリッド線\n",
    "plt.show() # 描画"
   ]
  },
  {
   "cell_type": "markdown",
   "id": "surrounded-flexibility",
   "metadata": {},
   "source": [
    "　頻度`frequency`をデータ数`N`で割り、各値の構成比を計算します。  \n",
    "\n",
    "　データ数が十分に増えると分布のグラフに形が近づきます。  \n",
    "<br>\n",
    "\n",
    "　サンプルサイズとヒストグラムの変化をアニメーションで確認します。乱数を1つずつ取り出して作図します。  \n",
    "\n",
    "　ヒストグラムのアニメーションを作成します。"
   ]
  },
  {
   "cell_type": "code",
   "execution_count": 23,
   "id": "convenient-vaccine",
   "metadata": {},
   "outputs": [
    {
     "name": "stderr",
     "output_type": "stream",
     "text": [
      "MovieWriter ffmpeg unavailable; using Pillow instead.\n"
     ]
    },
    {
     "data": {
      "image/png": "[encoded data removed]",
      "text/plain": [
       "<Figure size 864x576 with 1 Axes>"
      ]
     },
     "metadata": {
      "needs_background": "light"
     },
     "output_type": "display_data"
    }
   ],
   "source": [
    "# フレーム数を指定\n",
    "N = 100\n",
    "\n",
    "# 図を初期化\n",
    "fig = plt.figure(figsize=(12, 8))\n",
    "\n",
    "# 頻度の最大値を取得\n",
    "y_max = np.max([np.sum(x_n[:N] == m) for m in range(M + 1)])\n",
    "\n",
    "# 作図処理を関数として定義\n",
    "def update(n):\n",
    "    # 前フレームのグラフを初期化\n",
    "    plt.cla()\n",
    "    \n",
    "    # n個の乱数を集計\n",
    "    frequency = np.array([np.sum(x_n[:(n+1)] == m) for m in range(M + 1)])\n",
    "    \n",
    "    # サンプルのヒストグラムを作成\n",
    "    plt.bar(x=x_vals, height=frequency, color='#00A968', zorder=1) # ヒストグラム\n",
    "    plt.scatter(x=x_n[n], y=0.0, color='orange', s=100, zorder=2) # サンプル\n",
    "    plt.xlabel('x') # x軸ラベル\n",
    "    plt.ylabel('frequency') # y軸ラベル\n",
    "    plt.suptitle('Binomial Distribution', fontsize=20) # 図タイトル\n",
    "    plt.title('$\\phi=' + str(phi) + ', N=' + str(n) + \n",
    "              '=(' + ', '.join([str(f) for f in frequency]) + ')$', loc='left') # タイトル\n",
    "    plt.xticks(ticks=x_vals) # x軸目盛\n",
    "    plt.grid() # グリッド線\n",
    "    plt.ylim(-1.0, y_max + 1.0) # y軸の表示範囲\n",
    "\n",
    "# gif画像を作成\n",
    "anime_freq = FuncAnimation(fig, update, frames=N, interval=100)\n",
    "\n",
    "# gif画像を保存\n",
    "anime_freq.save('../figure/Python/Binomial_freq.gif')"
   ]
  },
  {
   "cell_type": "markdown",
   "id": "partial-miami",
   "metadata": {},
   "source": [
    "<br>\n",
    "\n",
    "　構成比のアニメーションを作成します。"
   ]
  },
  {
   "cell_type": "code",
   "execution_count": 24,
   "id": "fitted-cloud",
   "metadata": {},
   "outputs": [
    {
     "name": "stderr",
     "output_type": "stream",
     "text": [
      "MovieWriter ffmpeg unavailable; using Pillow instead.\n"
     ]
    },
    {
     "data": {
      "image/png": "[encoded data removed]",
      "text/plain": [
       "<Figure size 648x432 with 1 Axes>"
      ]
     },
     "metadata": {
      "needs_background": "light"
     },
     "output_type": "display_data"
    }
   ],
   "source": [
    "# 図を初期化\n",
    "fig = plt.figure(figsize=(9, 6))\n",
    "\n",
    "# 作図処理を関数として定義\n",
    "def update(n):\n",
    "    # 前フレームのグラフを初期化\n",
    "    plt.cla()\n",
    "    \n",
    "    # n個の乱数を集計\n",
    "    frequency = np.array([np.sum(x_n[:(n+1)] == m) for m in range(M + 1)])\n",
    "    \n",
    "    # サンプルの構成比を作成\n",
    "    plt.bar(x=x_vals, height=probability, color='white', edgecolor='green', linestyle='--', zorder=1) # 分布\n",
    "    plt.bar(x=x_vals, height=frequency / (n + 1), color='#00A968', alpha=0.8, zorder=2) # 構成比\n",
    "    plt.scatter(x=x_n[n], y=0.0, color='orange', s=100, zorder=3) # サンプル\n",
    "    plt.xlabel('x') # x軸ラベル\n",
    "    plt.ylabel('proportion') # y軸ラベル\n",
    "    plt.suptitle('Binomial Distribution', fontsize=20) # 図タイトル\n",
    "    plt.title('$\\phi=' + str(phi) + ', N=' + str(n) + \n",
    "              '=(' + ', '.join([str(f) for f in frequency]) + ')$', loc='left') # タイトル\n",
    "    plt.xticks(ticks=x_vals) # x軸目盛\n",
    "    plt.grid() # グリッド線\n",
    "    plt.ylim(-0.1, 1.1) # y軸の表示範囲\n",
    "\n",
    "# gif画像を作成\n",
    "anime_prop = FuncAnimation(fig, update, frames=N, interval=100)\n",
    "\n",
    "# gif画像を保存\n",
    "anime_prop.save('../figure/Python/Binomial_prop.gif')"
   ]
  },
  {
   "cell_type": "markdown",
   "id": "seasonal-surge",
   "metadata": {},
   "source": [
    "　サンプルが増えるに従って、真の分布に近付いていくのを確認できます。  \n",
    "\n",
    "　以上で、二項分布を確認できました。  \n",
    "<br>"
   ]
  }
 ],
 "metadata": {
  "kernelspec": {
   "display_name": "Python 3",
   "language": "python",
   "name": "python3"
  },
  "language_info": {
   "codemirror_mode": {
    "name": "ipython",
    "version": 3
   },
   "file_extension": ".py",
   "mimetype": "text/x-python",
   "name": "python",
   "nbconvert_exporter": "python",
   "pygments_lexer": "ipython3",
   "version": "3.7.10"
  }
 },
 "nbformat": 4,
 "nbformat_minor": 5
}
