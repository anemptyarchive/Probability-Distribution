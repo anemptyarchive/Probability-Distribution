{
 "cells": [
  {
   "cell_type": "markdown",
   "id": "dynamic-hello",
   "metadata": {},
   "source": [
    "# ベルヌーイ分布\n",
    "\n",
    "　ベルヌーイ分布(Bernoulli Distribution)の計算と作図を行います。  \n",
    "<br>\n",
    "\n",
    "- 執筆期間：2022/01/11 - 2022/01/11"
   ]
  },
  {
   "cell_type": "code",
   "execution_count": 1,
   "id": "acting-count",
   "metadata": {},
   "outputs": [
    {
     "name": "stdout",
     "output_type": "stream",
     "text": [
      "更新日時：2022-01-11 17:01\n"
     ]
    }
   ],
   "source": [
    "# 更新日時を出力\n",
    "import datetime\n",
    "now = datetime.datetime.now()\n",
    "print('更新日時：' + '{0:%Y-%m-%d %H:%M}'.format(now))"
   ]
  },
  {
   "cell_type": "markdown",
   "id": "wireless-birmingham",
   "metadata": {},
   "source": [
    "<br>\n",
    "\n",
    "　利用するライブラリを読み込みます。"
   ]
  },
  {
   "cell_type": "code",
   "execution_count": 2,
   "id": "sudden-garden",
   "metadata": {},
   "outputs": [],
   "source": [
    "# 利用するライブラリ\n",
    "import numpy as np\n",
    "from scipy.stats import bernoulli, binom, multinomial # ベルヌーイ分布, 二項分布, 多項分布\n",
    "import matplotlib.pyplot as plt\n",
    "from matplotlib.animation import FuncAnimation"
   ]
  },
  {
   "cell_type": "markdown",
   "id": "civil-presence",
   "metadata": {},
   "source": [
    "　分布の変化をアニメーション(gif画像)で確認するのに`matplotlib`ライブラリの`animation`モジュールを利用します。  \n",
    "<br>"
   ]
  },
  {
   "cell_type": "markdown",
   "id": "loaded-nightlife",
   "metadata": {},
   "source": [
    "## 定義式の確認\n",
    "\n",
    "　コインの裏表やくじの当たり外れのように、2値をとる変数の確率分布をベルヌーイ分布と言います。  \n",
    "　例えば、コインを投げて表なら1、裏なら0である変数を$x$とします。$x$が0か1の値をとることを$x \\in \\{0,1\\}$で表します。ちなみに、コインを1回投げて表が1回出ることを$x = 1$、表が1回も出ない(裏が出る)ことを$x = 0$で表していると理解しておくと、次の二項分布との関係が分かりやすくなります。  \n",
    "　$x = 1$となる(表が出る)確率を$\\phi$を使って表すことにします。$0 \\leq \\phi \\leq 1$であり、$x = 0$となる(裏が出る)確率は$1 - \\phi$になります。  \n",
    "\n",
    "　ベルヌーイ分布は、パラメータ$\\phi$を用いて次の式で定義されます。\n",
    "\n",
    "$$\n",
    "\\mathrm{Bern}(x | \\phi)\n",
    "    = \\phi^x (1 - \\phi)^{1 - x}\n",
    "$$\n",
    "\n",
    "　この式は、コインが表つまり$x = 1$のとき\n",
    "\n",
    "$$\n",
    "\\begin{aligned}\n",
    "\\mathrm{Bern}(x = 1 | \\phi)\n",
    "   &= \\phi^1\n",
    "      (1 - \\phi)^{1-1} \\\\\n",
    "   &= \\phi * 1 \\\\\n",
    "   &= \\phi\n",
    "\\end{aligned}\n",
    "$$\n",
    "\n",
    "となり、またコインが裏つまり$x = 0$のときは\n",
    "\n",
    "$$\n",
    "\\begin{aligned}\n",
    "\\mathrm{Bern}(x = 0 | \\phi)\n",
    "   &= \\phi^0\n",
    "      (1 - \\phi)^{1-0} \\\\\n",
    "   &= 1 * (1 - \\phi) \\\\\n",
    "   &= 1 - \\phi\n",
    "\\end{aligned}\n",
    "$$\n",
    "\n",
    "となります。$x^0 = 1$です。  \n",
    "　このように、$x$の値に対応した確率となるように式が定義されています。  \n",
    "<br>\n",
    "\n",
    "　ベルヌーイ分布の対数をとると\n",
    "\n",
    "$$\n",
    "\\log \\mathrm{Bern}(x | \\phi)\n",
    "    = x \\log \\phi\n",
    "      + (1 - x) \\log (1 - \\phi)\n",
    "$$\n",
    "\n",
    "となります。対数の性質より$\\log x^a = a \\log x$です。  \n",
    "\n",
    "　ベルヌーイ分布の平均と分散は、次の式で計算できます。詳しくは「統計量の導出」を参照してください。\n",
    "\n",
    "$$\n",
    "\\begin{aligned}\n",
    "\\mathbb{E}[x]\n",
    "   &= \\phi\n",
    "\\\\\n",
    "\\mathbb{V}[x]\n",
    "   &= \\phi (1 - \\phi)\n",
    "\\end{aligned}\n",
    "$$\n",
    "\n",
    "<br>\n",
    "\n",
    "　これらの計算を行いグラフを作成します。  \n",
    "<br>"
   ]
  },
  {
   "cell_type": "markdown",
   "id": "aboriginal-diagram",
   "metadata": {},
   "source": [
    "## 確率の計算\n",
    "\n",
    "　ベルヌーイ分布に従う確率を計算する方法をいくつか確認します。  \n",
    "<br>\n",
    "\n",
    "　パラメータを設定します。"
   ]
  },
  {
   "cell_type": "code",
   "execution_count": 3,
   "id": "activated-latest",
   "metadata": {},
   "outputs": [],
   "source": [
    "# パラメータを指定\n",
    "phi = 0.3\n",
    "\n",
    "# 確率変数の値を指定\n",
    "x = 1.0"
   ]
  },
  {
   "cell_type": "markdown",
   "id": "cardiovascular-hybrid",
   "metadata": {},
   "source": [
    "　ベルヌーイ分布のパラメータ$0 \\leq \\phi \\leq 1$と確率変数がとり得る値$x \\in \\{0, 1\\}$を指定します。設定した値に従う確率を計算します。  \n",
    "\n",
    "　まずは、定義式から確率を計算します。"
   ]
  },
  {
   "cell_type": "code",
   "execution_count": 4,
   "id": "distributed-cheese",
   "metadata": {},
   "outputs": [
    {
     "name": "stdout",
     "output_type": "stream",
     "text": [
      "0.3\n"
     ]
    }
   ],
   "source": [
    "# 定義式により確率を計算\n",
    "prob = phi**x * (1.0 - phi)**(1.0 - x)\n",
    "print(prob)"
   ]
  },
  {
   "cell_type": "markdown",
   "id": "thermal-proxy",
   "metadata": {},
   "source": [
    "　ベルヌーイ分布の定義式\n",
    "\n",
    "$$\n",
    "p(x | \\phi)\n",
    "    = \\phi^x (1 - \\phi)^{1 - x}\n",
    "$$\n",
    "\n",
    "で計算します。  \n",
    "　対数をとった定義式から計算します。"
   ]
  },
  {
   "cell_type": "code",
   "execution_count": 5,
   "id": "capable-berry",
   "metadata": {},
   "outputs": [
    {
     "name": "stdout",
     "output_type": "stream",
     "text": [
      "0.3 -1.2039728043259361\n"
     ]
    }
   ],
   "source": [
    "# 対数をとった定義式により確率を計算\n",
    "log_prob = x * np.log(phi) + (1.0 - x) * np.log(1.0 - phi)\n",
    "prob = np.exp(log_prob)\n",
    "print(prob, log_prob)"
   ]
  },
  {
   "cell_type": "markdown",
   "id": "residential-reference",
   "metadata": {},
   "source": [
    "　対数をとった定義式\n",
    "\n",
    "$$\n",
    "\\log p(x | \\phi)\n",
    "    = x \\log \\phi\n",
    "      + (1 - x) \\log (1 - \\phi)\n",
    "$$\n",
    "\n",
    "を計算します。計算結果の指数をとると確率が得られます。\n",
    "\n",
    "$$\n",
    "p(x | \\phi)\n",
    "    = \\exp \\Bigr(\n",
    "          \\log p(x | \\phi)\n",
    "      \\Bigr)\n",
    "$$\n",
    "\n",
    "　指数と対数の性質より$\\exp(\\log x) = x$です。  \n",
    "\n",
    "　次は、`SciPy`ライブラリのモジュールを使って確率を計算します。  \n",
    "　ベルヌーイ分布のモジュール`bernoulli`の確率計算メソッド`pmf()`を使って計算します。"
   ]
  },
  {
   "cell_type": "code",
   "execution_count": 6,
   "id": "healthy-egyptian",
   "metadata": {},
   "outputs": [
    {
     "name": "stdout",
     "output_type": "stream",
     "text": [
      "0.3\n"
     ]
    }
   ],
   "source": [
    "# ベルヌーイ分布の関数により確率を計算\n",
    "prob = bernoulli.pmf(k=x, p=phi)\n",
    "print(prob)"
   ]
  },
  {
   "cell_type": "markdown",
   "id": "progressive-tunisia",
   "metadata": {},
   "source": [
    "　引数`k`に`x`、成功確率の引数`p`に`phi`を指定します。  \n",
    "\n",
    "　`logpmf()`だと対数をとった確率を計算します。"
   ]
  },
  {
   "cell_type": "code",
   "execution_count": 7,
   "id": "handed-eight",
   "metadata": {},
   "outputs": [
    {
     "name": "stdout",
     "output_type": "stream",
     "text": [
      "0.3 -1.2039728043259361\n"
     ]
    }
   ],
   "source": [
    "# ベルヌーイ分布の対数をとった関数により確率を計算\n",
    "log_prob = bernoulli.logpmf(k=x, p=phi)\n",
    "prob = np.exp(log_prob)\n",
    "print(prob, log_prob)"
   ]
  },
  {
   "cell_type": "markdown",
   "id": "sustainable-structure",
   "metadata": {},
   "source": [
    "　計算結果の指数をとると確率が得られます。  \n",
    "\n",
    "　二項分布のモジュール`binom`の確率計算メソッド`pmf()`を使って計算します。"
   ]
  },
  {
   "cell_type": "code",
   "execution_count": 8,
   "id": "chemical-allocation",
   "metadata": {},
   "outputs": [
    {
     "name": "stdout",
     "output_type": "stream",
     "text": [
      "0.3\n"
     ]
    }
   ],
   "source": [
    "# 二項分布の関数により確率を計算\n",
    "prob = binom.pmf(k=x, n=1, p=phi)\n",
    "print(prob)"
   ]
  },
  {
   "cell_type": "markdown",
   "id": "electrical-aviation",
   "metadata": {},
   "source": [
    "　試行回数の引数`n`に`1`を指定することで、ベルヌーイ分布の確率を計算できます。  \n",
    "　成功回数の引数`k`に`x`、成功確率の引数`p`に`phi`を指定します。  \n",
    "\n",
    "　`logpmf()`だと対数をとった確率を計算します。"
   ]
  },
  {
   "cell_type": "code",
   "execution_count": 9,
   "id": "circular-valuation",
   "metadata": {},
   "outputs": [
    {
     "name": "stdout",
     "output_type": "stream",
     "text": [
      "0.3 -1.2039728043259361\n"
     ]
    }
   ],
   "source": [
    "# 二項分布の対数をとった関数により確率を計算\n",
    "log_prob = binom.logpmf(k=x, n=1, p=phi)\n",
    "prob = np.exp(log_prob)\n",
    "print(prob, log_prob)"
   ]
  },
  {
   "cell_type": "markdown",
   "id": "conditional-relay",
   "metadata": {},
   "source": [
    "　計算結果の指数をとると確率が得られます。  \n",
    "\n",
    "　以降の計算は、変数とパラメータをベクトルに変換しておく必要があります。"
   ]
  },
  {
   "cell_type": "code",
   "execution_count": 10,
   "id": "removable-welding",
   "metadata": {},
   "outputs": [],
   "source": [
    "# ベクトルに変換\n",
    "x_v = np.array([1 - x, x])\n",
    "phi_v = np.array([1.0 - phi, phi])"
   ]
  },
  {
   "cell_type": "markdown",
   "id": "noble-swift",
   "metadata": {},
   "source": [
    "　$x = 0$となる確率$1 - \\phi$と、$x = 1$となる確率$\\phi$を持つ配列を作成して`phi_v`とします。  \n",
    "　$x = 0$のとき$1 - x = 1$、$x = 1$のとき$1 - x = 0$となるのを利用して、one-hotベクトル(1-of-K符号化法)の$x$を作成して`x_v`とします。  \n",
    "\n",
    "　多項分布のモジュール`multinomial`の確率計算メソッド`pmf()`を使って計算します。"
   ]
  },
  {
   "cell_type": "code",
   "execution_count": 11,
   "id": "classified-greene",
   "metadata": {},
   "outputs": [
    {
     "name": "stdout",
     "output_type": "stream",
     "text": [
      "0.30000000000000004\n"
     ]
    }
   ],
   "source": [
    "# 多項分布の関数により確率を計算\n",
    "prob = multinomial.pmf(x=x_v, n=1, p=phi_v)\n",
    "print(prob)"
   ]
  },
  {
   "cell_type": "markdown",
   "id": "formed-feeling",
   "metadata": {},
   "source": [
    "　二項分布と同様に試行回数の引数を`n=1`として、出現頻度の引数`x`に`x`、出現確率の引数`p`に`phi_v`を指定します。  \n",
    "\n",
    "　`logpmf()`だと対数をとった確率を計算します。"
   ]
  },
  {
   "cell_type": "code",
   "execution_count": 12,
   "id": "allied-seventh",
   "metadata": {},
   "outputs": [
    {
     "name": "stdout",
     "output_type": "stream",
     "text": [
      "0.30000000000000004 -1.203972804325936\n"
     ]
    }
   ],
   "source": [
    "# 多項分布の対数をとった関数により確率を計算\n",
    "log_prob = multinomial.logpmf(x=x_v, n=1, p=phi_v)\n",
    "prob = np.exp(log_prob)\n",
    "print(prob, log_prob)"
   ]
  },
  {
   "cell_type": "markdown",
   "id": "abandoned-bacteria",
   "metadata": {},
   "source": [
    "　計算結果の指数をとると確率が得られます。  \n",
    "\n",
    "　最後に、スライス機能を使って確率を取り出します。"
   ]
  },
  {
   "cell_type": "code",
   "execution_count": 13,
   "id": "documentary-hungarian",
   "metadata": {},
   "outputs": [
    {
     "name": "stdout",
     "output_type": "stream",
     "text": [
      "0.3\n"
     ]
    }
   ],
   "source": [
    "# インデックスにより確率を抽出\n",
    "prob = phi_v[np.int(x)]\n",
    "print(prob)"
   ]
  },
  {
   "cell_type": "markdown",
   "id": "moral-river",
   "metadata": {},
   "source": [
    "　`x`が`0`となる確率は`phi_v`の0番目の要素で、`1`となる確率は`phi_v`の1番目の要素なので、`x`の値に対応するパラメータのインデックスは`x`になります。  \n",
    "<br>"
   ]
  },
  {
   "cell_type": "markdown",
   "id": "strategic-garage",
   "metadata": {},
   "source": [
    "## 統計量の計算\n",
    "\n",
    "　ベルヌーイ分布の平均と分散を計算します。  \n",
    "<br>\n",
    "\n",
    "　平均を計算します。"
   ]
  },
  {
   "cell_type": "code",
   "execution_count": 14,
   "id": "executed-vacuum",
   "metadata": {},
   "outputs": [
    {
     "name": "stdout",
     "output_type": "stream",
     "text": [
      "0.3\n"
     ]
    }
   ],
   "source": [
    "# 定義式により平均を計算\n",
    "E_x = phi\n",
    "print(E_x)"
   ]
  },
  {
   "cell_type": "markdown",
   "id": "increasing-native",
   "metadata": {},
   "source": [
    "　ベルヌーイ分布の平均は、次の式で計算できます。\n",
    "\n",
    "$$\n",
    "\\mathbb{E}[x]\n",
    "    = \\phi\n",
    "$$\n",
    "\n",
    "　各分布のモジュールの平均メソッド`mean()`でも計算できます。"
   ]
  },
  {
   "cell_type": "code",
   "execution_count": 15,
   "id": "romantic-karma",
   "metadata": {},
   "outputs": [
    {
     "name": "stdout",
     "output_type": "stream",
     "text": [
      "0.3\n",
      "0.3\n"
     ]
    }
   ],
   "source": [
    "# ベルヌーイ分布の関数により平均を計算\n",
    "print(bernoulli.mean(p=phi))\n",
    "\n",
    "# 二項分布の関数により平均を計算\n",
    "print(binom.mean(n=1, p=phi))"
   ]
  },
  {
   "cell_type": "markdown",
   "id": "quiet-wrong",
   "metadata": {},
   "source": [
    "　確率計算と同様に引数を指定します。  \n",
    "\n",
    "　分散を計算します。"
   ]
  },
  {
   "cell_type": "code",
   "execution_count": 16,
   "id": "macro-story",
   "metadata": {},
   "outputs": [
    {
     "name": "stdout",
     "output_type": "stream",
     "text": [
      "0.21\n"
     ]
    }
   ],
   "source": [
    "# 分散を計算\n",
    "V_x = phi * (1.0 - phi)\n",
    "print(V_x)"
   ]
  },
  {
   "cell_type": "markdown",
   "id": "tamil-ebony",
   "metadata": {},
   "source": [
    "　ベルヌーイ分布の分散は、次の式で計算できます。\n",
    "\n",
    "$$\n",
    "\\mathbb{V}[x]\n",
    "    = \\phi (1 - \\phi)\n",
    "$$\n",
    "\n",
    "　`var()`メソッドで分散を計算できます。"
   ]
  },
  {
   "cell_type": "code",
   "execution_count": 17,
   "id": "facial-apparel",
   "metadata": {},
   "outputs": [
    {
     "name": "stdout",
     "output_type": "stream",
     "text": [
      "0.21\n",
      "0.21\n"
     ]
    }
   ],
   "source": [
    "# ベルヌーイ分布の関数により分散を計算\n",
    "print(bernoulli.var(p=phi))\n",
    "\n",
    "# 二項分布の関数により分散を計算\n",
    "print(binom.var(n=1, p=phi))"
   ]
  },
  {
   "cell_type": "markdown",
   "id": "civilian-longer",
   "metadata": {},
   "source": [
    "　こちらも同様に引数を指定します。  \n",
    "<br>"
   ]
  },
  {
   "cell_type": "markdown",
   "id": "facial-montreal",
   "metadata": {},
   "source": [
    "## グラフの作成\n",
    "\n",
    "　`Matplotlib`ライブラリの`PyPlot`モジュールを利用してベルヌーイ分布のグラフを作成します。  \n",
    "<br>\n",
    "\n",
    "　作図用の配列を作成します。"
   ]
  },
  {
   "cell_type": "code",
   "execution_count": 18,
   "id": "pleasant-consumer",
   "metadata": {},
   "outputs": [
    {
     "name": "stdout",
     "output_type": "stream",
     "text": [
      "[0. 1.]\n",
      "[0.7 0.3]\n"
     ]
    }
   ],
   "source": [
    "# パラメータを指定\n",
    "phi = 0.3\n",
    "\n",
    "# 作図用の値を作成\n",
    "x_vals = np.array([0.0, 1.0])\n",
    "probability = np.array([1.0 - phi, phi])\n",
    "print(x_vals)\n",
    "print(probability)"
   ]
  },
  {
   "cell_type": "markdown",
   "id": "structured-delaware",
   "metadata": {},
   "source": [
    "　$x$がとり得る値`0, 1`と、それに対応する確率`1 - phi, phi`を配列に格納します。  \n",
    "\n",
    "　ベルヌーイ分布のグラフを作成します。"
   ]
  },
  {
   "cell_type": "code",
   "execution_count": 19,
   "id": "hazardous-morgan",
   "metadata": {},
   "outputs": [
    {
     "data": {
      "image/png": "[encoded data removed]",
      "text/plain": [
       "<Figure size 648x576 with 1 Axes>"
      ]
     },
     "metadata": {
      "needs_background": "light"
     },
     "output_type": "display_data"
    }
   ],
   "source": [
    "# ベルヌーイ分布を作図\n",
    "plt.figure(figsize=(9, 8)) # 図の設定\n",
    "plt.bar(x_vals, probability, color='#00A968') # 棒グラフ\n",
    "#plt.vlines(x=E_x, ymin=0.0, ymax=np.max(probability), color='orange', linestyle='--', label='$E[x]$') # 平均\n",
    "#plt.vlines(x=E_x - V_x, ymin=0.0, ymax=np.max(probability), color='orange', linestyle=':', label='$E[x] - \\sqrt{V[x]}$') # 平均 - 標準偏差\n",
    "#plt.vlines(x=E_x + V_x, ymin=0.0, ymax=np.max(probability), color='orange', linestyle=':', label='$E[x] + \\sqrt{V[x]}$') # 平均 + 標準偏差\n",
    "plt.xlabel('x') # x軸ラベル\n",
    "plt.ylabel('probability') # y軸ラベル\n",
    "plt.suptitle('Bernoulli Distribution', fontsize=20) # 図タイトル\n",
    "plt.title('$\\phi=' + str(phi) + '$', loc='left') # タイトル\n",
    "plt.xticks(ticks=[0, 1]) # x軸目盛\n",
    "#plt.legend() # 凡例\n",
    "plt.grid() # グリッド線\n",
    "plt.show() # 描画"
   ]
  },
  {
   "cell_type": "markdown",
   "id": "spare-easter",
   "metadata": {},
   "source": [
    "　パラメータの値そのままですが、これがベルヌーイ分布のグラフです。  \n",
    "<br>"
   ]
  },
  {
   "cell_type": "markdown",
   "id": "failing-painting",
   "metadata": {},
   "source": [
    "## パラメータとグラフの形状の関係\n",
    "\n",
    "　続いて、パラメータ$\\phi$の値を少しずつ変更して、分布の変化をアニメーションで確認します。"
   ]
  },
  {
   "cell_type": "code",
   "execution_count": 20,
   "id": "sophisticated-philosophy",
   "metadata": {},
   "outputs": [
    {
     "name": "stderr",
     "output_type": "stream",
     "text": [
      "MovieWriter ffmpeg unavailable; using Pillow instead.\n"
     ]
    },
    {
     "data": {
      "image/png": "[encoded data removed]",
      "text/plain": [
       "<Figure size 648x576 with 1 Axes>"
      ]
     },
     "metadata": {
      "needs_background": "light"
     },
     "output_type": "display_data"
    }
   ],
   "source": [
    "# 作図用のphiの値を作成\n",
    "phi_vals = np.arange(start=0.0, stop=1.01, step=0.01)\n",
    "\n",
    "# 図を初期化\n",
    "fig = plt.figure(figsize=(9, 8))\n",
    "\n",
    "# 作図処理を関数として定義\n",
    "def update(i):\n",
    "    # 前フレームのグラフを初期化\n",
    "    plt.cla()\n",
    "    \n",
    "    # i回目の値を取得\n",
    "    phi = phi_vals[i]\n",
    "    \n",
    "    # ベルヌーイ分布を作図\n",
    "    plt.bar([0.0, 1.0], [1.0 - phi, phi], color='#00A968') # 棒グラフ\n",
    "    plt.xlabel('x') # x軸ラベル\n",
    "    plt.ylabel('probability') # y軸ラベル\n",
    "    plt.suptitle('Bernoulli Distribution', fontsize=20) # 図タイトル\n",
    "    plt.title('$\\phi=' + str(np.round(phi, 2)) + '$', loc='left') # タイトル\n",
    "    plt.xticks(ticks=[0, 1]) # x軸目盛\n",
    "    plt.grid() # グリッド線\n",
    "    plt.ylim(-0.1, 1.1) # y軸の表示範囲\n",
    "\n",
    "# gif画像を作成\n",
    "anime_prob = FuncAnimation(fig, update, frames=len(phi_vals), interval=100)\n",
    "\n",
    "# gif画像を保存\n",
    "anime_prob.save('../figure/Python/Bernoulli_prob.gif')"
   ]
  },
  {
   "cell_type": "markdown",
   "id": "strange-cradle",
   "metadata": {},
   "source": [
    "　$\\phi$がとり得る値を作成して`phi_vals`とします。  \n",
    "　`phi_vals`の値ごとに作図します。\n",
    "\n",
    "　(定義のままですが、)パラメータ$\\phi$の値が大きくなるほど、$x = 0$となる確率が下がり、$x = 1$となる確率が上がるのを確認できます。  \n",
    "<br>"
   ]
  },
  {
   "cell_type": "markdown",
   "id": "thrown-helen",
   "metadata": {},
   "source": [
    "## 乱数の生成\n",
    "\n",
    "　ベルヌーイ分布の乱数を生成してヒストグラムを確認します。  \n",
    "<br>\n",
    "\n",
    "　パラメータを指定して、ベルヌーイ分布に従う乱数を生成します。"
   ]
  },
  {
   "cell_type": "code",
   "execution_count": 21,
   "id": "cooperative-apollo",
   "metadata": {},
   "outputs": [
    {
     "name": "stdout",
     "output_type": "stream",
     "text": [
      "[0 0 0 0 0]\n"
     ]
    }
   ],
   "source": [
    "# パラメータを指定\n",
    "phi = 0.3\n",
    "\n",
    "# データ数を指定\n",
    "N = 1000\n",
    "\n",
    "# ベルヌーイ分布に従う乱数を生成\n",
    "x_n = np.random.binomial(n=1, p=phi, size=N)\n",
    "print(x_n[:5])"
   ]
  },
  {
   "cell_type": "markdown",
   "id": "smaller-chamber",
   "metadata": {},
   "source": [
    "　二項分布の乱数生成関数`np.random.binomial()`の試行回数の引数`n `に`1`を指定することで、ベルヌーイ分布に従う乱数を生成できます。  \n",
    "　データ数(サンプルサイズ)の引数`size`に`N`、成功確率の引数`p`に`phi`を指定します。  \n",
    "\n",
    "　サンプルの値を集計します。"
   ]
  },
  {
   "cell_type": "code",
   "execution_count": 22,
   "id": "convertible-hepatitis",
   "metadata": {},
   "outputs": [
    {
     "name": "stdout",
     "output_type": "stream",
     "text": [
      "[685 315]\n"
     ]
    }
   ],
   "source": [
    "# 乱数を集計\n",
    "frequency = np.array([np.sum(x_n == 0), np.sum(x_n == 1)])\n",
    "print(frequency)"
   ]
  },
  {
   "cell_type": "markdown",
   "id": "friendly-montana",
   "metadata": {},
   "source": [
    "　`x_n`に含まれる`0`の要素数は、`np.sum(x_n == 0)`で得られます。値が`1`の要素数も同様に求めて、配列に格納します。  \n",
    "　また、得られた頻度`frequency`をデータ数`N`で割り、`0`と`1`の構成比を計算します。  \n",
    "\n",
    "　ヒストグラムを作成します。"
   ]
  },
  {
   "cell_type": "code",
   "execution_count": 23,
   "id": "bulgarian-plasma",
   "metadata": {},
   "outputs": [
    {
     "data": {
      "image/png": "[encoded data removed]",
      "text/plain": [
       "<Figure size 648x576 with 1 Axes>"
      ]
     },
     "metadata": {
      "needs_background": "light"
     },
     "output_type": "display_data"
    }
   ],
   "source": [
    "# サンプルのヒストグラムを作成\n",
    "plt.figure(figsize=(9, 8)) # 図の設定\n",
    "plt.bar(x_vals, frequency, color='#00A968') # ヒストグラム\n",
    "plt.xlabel('x') # x軸ラベル\n",
    "plt.ylabel('frequency') # y軸ラベル\n",
    "plt.suptitle('Bernoulli Distribution', fontsize=20) # 図タイトル\n",
    "plt.title('$\\phi=' + str(phi) + ', N=' + str(N) + \n",
    "          '=(' + str(np.sum(x_n == 0)) + ', ' + str(np.sum(x_n == 1)) + ')$', loc='left') # タイトル\n",
    "plt.xticks(ticks=[0, 1]) # x軸目盛\n",
    "plt.grid() # グリッド線\n",
    "plt.show() # 描画"
   ]
  },
  {
   "cell_type": "markdown",
   "id": "comparative-salon",
   "metadata": {},
   "source": [
    "\n",
    "　構成比を分布と重ねて描画します。"
   ]
  },
  {
   "cell_type": "code",
   "execution_count": 24,
   "id": "constant-salmon",
   "metadata": {},
   "outputs": [
    {
     "data": {
      "image/png": "[encoded data removed]",
      "text/plain": [
       "<Figure size 648x576 with 1 Axes>"
      ]
     },
     "metadata": {
      "needs_background": "light"
     },
     "output_type": "display_data"
    }
   ],
   "source": [
    "# サンプルの構成比を作図\n",
    "plt.figure(figsize=(9, 8)) # 図の設定\n",
    "plt.bar(x_vals, probability, color='white', edgecolor='green', linestyle='--') # 分布\n",
    "plt.bar(x_vals, frequency / N, color='#00A968', alpha=0.8) # 構成比\n",
    "plt.xlabel('x') # x軸ラベル\n",
    "plt.ylabel('proportion') # y軸ラベル\n",
    "plt.suptitle('Bernoulli Distribution', fontsize=20) # 図タイトル\n",
    "plt.title('$\\phi=' + str(phi) + ', N=' + str(N) + \n",
    "          '=(' + str(np.sum(x_n == 0)) + ', ' + str(np.sum(x_n == 1)) + ')$', loc='left') # タイトル\n",
    "plt.xticks(ticks=[0, 1]) # x軸目盛\n",
    "plt.grid() # グリッド線\n",
    "plt.show() # 描画"
   ]
  },
  {
   "cell_type": "markdown",
   "id": "cardiac-liquid",
   "metadata": {},
   "source": [
    "　データ数が十分に増えると分布に形が近づきます。  \n",
    "<br>\n",
    "\n",
    "　サンプルサイズとヒストグラムの変化をアニメーションで確認します。乱数を1つずつ取り出して作図します。  \n",
    "\n",
    "　ヒストグラムのアニメーションを作成します。  "
   ]
  },
  {
   "cell_type": "code",
   "execution_count": 25,
   "id": "binding-practitioner",
   "metadata": {},
   "outputs": [
    {
     "name": "stderr",
     "output_type": "stream",
     "text": [
      "MovieWriter ffmpeg unavailable; using Pillow instead.\n"
     ]
    },
    {
     "data": {
      "image/png": "[encoded data removed]",
      "text/plain": [
       "<Figure size 648x576 with 1 Axes>"
      ]
     },
     "metadata": {
      "needs_background": "light"
     },
     "output_type": "display_data"
    }
   ],
   "source": [
    "# フレーム数を指定\n",
    "N = 100\n",
    "\n",
    "# 図を初期化\n",
    "fig = plt.figure(figsize=(9, 8))\n",
    "\n",
    "# 頻度の最大値を取得\n",
    "y_max = np.max([np.sum(x_n[:N] == 0), np.sum(x_n[:N] == 1)])\n",
    "\n",
    "# 作図処理を関数として定義\n",
    "def update(n):\n",
    "    # 前フレームのグラフを初期化\n",
    "    plt.cla()\n",
    "    \n",
    "    # n個の乱数を集計\n",
    "    frequency = np.array([np.sum(x_n[:(n+1)] == 0), np.sum(x_n[:(n+1)] == 1)])\n",
    "    \n",
    "    # サンプルのヒストグラムを作成\n",
    "    plt.bar(x_vals, frequency, color='#00A968', zorder=1) # ヒストグラム\n",
    "    plt.scatter(x_n[n], 0.0, color='orange', s=100, zorder=2) # サンプル\n",
    "    plt.xlabel('x') # x軸ラベル\n",
    "    plt.ylabel('frequency') # y軸ラベル\n",
    "    plt.suptitle('Bernoulli Distribution', fontsize=20) # 図タイトル\n",
    "    plt.title('$\\phi=' + str(phi) + ', N=' + str(n) + \n",
    "              '=(' + str(frequency[0]) + ', ' + str(frequency[1]) + ')$', loc='left') # タイトル\n",
    "    plt.xticks(ticks=[0, 1]) # x軸目盛\n",
    "    plt.grid() # グリッド線\n",
    "    plt.ylim(-1.0, y_max + 1.0) # y軸の表示範囲\n",
    "\n",
    "# gif画像を作成\n",
    "anime_hist = FuncAnimation(fig, update, frames=N, interval=100)\n",
    "\n",
    "# gif画像を保存\n",
    "anime_hist.save('../figure/Python/Bernoulli_hist.gif')"
   ]
  },
  {
   "cell_type": "markdown",
   "id": "broke-norwegian",
   "metadata": {},
   "source": [
    "<br>\n",
    "\n",
    "　構成比のアニメーションを作成します。"
   ]
  },
  {
   "cell_type": "code",
   "execution_count": 26,
   "id": "clinical-thinking",
   "metadata": {},
   "outputs": [
    {
     "name": "stderr",
     "output_type": "stream",
     "text": [
      "MovieWriter ffmpeg unavailable; using Pillow instead.\n"
     ]
    },
    {
     "data": {
      "image/png": "[encoded data removed]",
      "text/plain": [
       "<Figure size 648x576 with 1 Axes>"
      ]
     },
     "metadata": {
      "needs_background": "light"
     },
     "output_type": "display_data"
    }
   ],
   "source": [
    "# 図を初期化\n",
    "fig = plt.figure(figsize=(9, 8))\n",
    "\n",
    "# 作図処理を関数として定義\n",
    "def update(n):\n",
    "    # 前フレームのグラフを初期化\n",
    "    plt.cla()\n",
    "    \n",
    "    # n個の乱数を集計\n",
    "    frequency = np.array([np.sum(x_n[:(n+1)] == 0), np.sum(x_n[:(n+1)] == 1)])\n",
    "    \n",
    "    # サンプルの構成比を作成\n",
    "    plt.bar(x_vals, probability, color='white', edgecolor='green', linestyle='--', zorder=1) # 分布\n",
    "    plt.bar(x_vals, frequency / (n + 1), color='#00A968', alpha=0.8, zorder=2) # 構成比\n",
    "    plt.scatter(x_n[n], 0.0, color='orange', s=100, zorder=3) # サンプル\n",
    "    plt.xlabel('x') # x軸ラベル\n",
    "    plt.ylabel('proportion') # y軸ラベル\n",
    "    plt.suptitle('Bernoulli Distribution', fontsize=20) # 図タイトル\n",
    "    plt.title('$\\phi=' + str(phi) + ', N=' + str(n) + \n",
    "              '=(' + str(frequency[0]) + ', ' + str(frequency[1]) + ')$', loc='left') # タイトル\n",
    "    plt.xticks(ticks=[0, 1]) # x軸目盛\n",
    "    plt.grid() # グリッド線\n",
    "    plt.ylim(-0.1, 1.1) # y軸の表示範囲\n",
    "\n",
    "# gif画像を作成\n",
    "anime_prop = FuncAnimation(fig, update, frames=N, interval=100)\n",
    "\n",
    "# gif画像を保存\n",
    "anime_prop.save('../figure/Python/Bernoulli_prop.gif')"
   ]
  },
  {
   "cell_type": "markdown",
   "id": "minute-flexibility",
   "metadata": {},
   "source": [
    "　サンプルが増えるに従って、真の分布に近付いていくのを確認できます。  \n",
    "\n",
    "　以上で、ベルヌーイ分布を確認できました。  \n",
    "<br>"
   ]
  }
 ],
 "metadata": {
  "kernelspec": {
   "display_name": "Python 3",
   "language": "python",
   "name": "python3"
  },
  "language_info": {
   "codemirror_mode": {
    "name": "ipython",
    "version": 3
   },
   "file_extension": ".py",
   "mimetype": "text/x-python",
   "name": "python",
   "nbconvert_exporter": "python",
   "pygments_lexer": "ipython3",
   "version": "3.7.10"
  }
 },
 "nbformat": 4,
 "nbformat_minor": 5
}
