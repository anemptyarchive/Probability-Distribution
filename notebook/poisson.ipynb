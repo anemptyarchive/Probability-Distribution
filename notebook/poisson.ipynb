{
 "cells": [
  {
   "cell_type": "markdown",
   "id": "institutional-cheese",
   "metadata": {},
   "source": [
    "# 分布の作図\n",
    "\n",
    "- 執筆期間：2022/01/26 - 2022/01/26"
   ]
  },
  {
   "cell_type": "code",
   "execution_count": 1,
   "id": "favorite-favorite",
   "metadata": {},
   "outputs": [
    {
     "name": "stdout",
     "output_type": "stream",
     "text": [
      "更新日時：2022-01-26 18:19\n"
     ]
    }
   ],
   "source": [
    "# 更新日時を出力\n",
    "import datetime\n",
    "now = datetime.datetime.now()\n",
    "print('更新日時：' + '{0:%Y-%m-%d %H:%M}'.format(now))"
   ]
  },
  {
   "cell_type": "markdown",
   "id": "cutting-editing",
   "metadata": {},
   "source": [
    "# ポアソン分布\n",
    "\n",
    "　ポアソン分布(Poisson Distribution)の計算と作図を行います。  \n",
    "<br>\n",
    "\n",
    "　利用するライブラリを読み込みます。"
   ]
  },
  {
   "cell_type": "code",
   "execution_count": 2,
   "id": "exterior-theorem",
   "metadata": {},
   "outputs": [],
   "source": [
    "# 利用するライブラリ\n",
    "import numpy as np\n",
    "from scipy.stats import poisson # ポアソン分布\n",
    "from scipy.special import gamma, loggamma # ガンマ関数, 対数ガンマ関数\n",
    "import matplotlib.pyplot as plt\n",
    "from matplotlib.animation import FuncAnimation"
   ]
  },
  {
   "cell_type": "markdown",
   "id": "swiss-secondary",
   "metadata": {},
   "source": [
    "　分布の変化をアニメーション(gif画像)で確認するのに`matplotlib`ライブラリの`animation`モジュールを利用します。不要であれば省略してください。  \n",
    "<br>"
   ]
  },
  {
   "cell_type": "markdown",
   "id": "pointed-tumor",
   "metadata": {},
   "source": [
    "## 定義式の確認\n",
    "\n",
    "　まずは、ポアソン分布の定義式を確認します。  \n",
    "<br>\n",
    "\n",
    "　ポアソン分布は、次の式で定義されます。\n",
    "\n",
    "$$\n",
    "\\mathrm{Poi}(x | \\lambda)\n",
    "    = \\frac{\\lambda^x}{x!}\n",
    "      e^{-\\lambda}\n",
    "$$\n",
    "\n",
    "　ここで、$x$は単位時間における事象の発生回数、$\\lambda$は発生回数の期待値です。  \n",
    "　確率変数の値$x$は0以上の整数となります。パラメータ$\\lambda$は、$\\lambda > 0$を満たす必要があります。  \n",
    "\n",
    "　この式の対数をとると、次の式になります。\n",
    "\n",
    "$$\n",
    "\\log \\mathrm{Poi}(x | \\lambda)\n",
    "    = x \\log \\lambda\n",
    "      - \\log x!\n",
    "      - \\lambda\n",
    "$$\n",
    "\n",
    "　ポアソン分布の平均と分散は、どちらもパラメータ$\\lambda$になります。\n",
    "\n",
    "$$\n",
    "\\begin{aligned}\n",
    "\\mathbb{E}[x]\n",
    "   &= \\lambda\n",
    "\\\\\n",
    "\\mathbb{V}[x]\n",
    "   &= \\lambda\n",
    "\\end{aligned}\n",
    "$$\n",
    "\n",
    "<br>"
   ]
  },
  {
   "cell_type": "markdown",
   "id": "black-smart",
   "metadata": {},
   "source": [
    "## 確率の計算\n",
    "\n",
    "　ポアソン分布に従う確率を計算する方法をいくつか確認します。  \n",
    "<br>\n",
    "\n",
    "　パラメータを設定します。"
   ]
  },
  {
   "cell_type": "code",
   "execution_count": 3,
   "id": "disturbed-waste",
   "metadata": {},
   "outputs": [],
   "source": [
    "# パラメータを指定\n",
    "lmd = 4.0\n",
    "\n",
    "# 確率変数の値を指定\n",
    "x = 2.0"
   ]
  },
  {
   "cell_type": "markdown",
   "id": "surgical-elizabeth",
   "metadata": {},
   "source": [
    "　ポアソン分布のパラメータ$\\lambda > 0$、確率変数がとり得る値(非負の整数)$x$を指定します。設定した値に従う確率を計算します。`lambda`は予約語のため変数名として使えないので`lmd`とします。  \n",
    "\n",
    "　まずは、定義式から確率を計算します。"
   ]
  },
  {
   "cell_type": "code",
   "execution_count": 4,
   "id": "comparable-reviewer",
   "metadata": {},
   "outputs": [
    {
     "name": "stdout",
     "output_type": "stream",
     "text": [
      "0.14652511110987343\n"
     ]
    }
   ],
   "source": [
    "# 定義式により確率を計算\n",
    "prob = lmd**x / gamma(x + 1.0) * np.exp(-lmd)\n",
    "print(prob)"
   ]
  },
  {
   "cell_type": "markdown",
   "id": "standard-dinner",
   "metadata": {},
   "source": [
    "　ポアソン分布の定義式\n",
    "\n",
    "$$\n",
    "\\mathrm{Poi}(x | \\lambda)\n",
    "    = \\frac{\\lambda^x}{x!}\n",
    "      \\exp(-\\lambda)\n",
    "$$\n",
    "\n",
    "で計算します。  \n",
    "　階乗$x!$の計算は、ガンマ関数$\\Gamma(x + 1) = x!$に置き換えて計算します。ガンマ関数は、`SciPy`ライブラリの`special`モジュールの`gamma()`で計算できます。  \n",
    "\n",
    "　対数をとった定義式から計算します。"
   ]
  },
  {
   "cell_type": "code",
   "execution_count": 5,
   "id": "fewer-transition",
   "metadata": {},
   "outputs": [
    {
     "name": "stdout",
     "output_type": "stream",
     "text": [
      "0.14652511110987343 -1.9205584583201643\n"
     ]
    }
   ],
   "source": [
    "# 対数をとった定義式により確率を計算\n",
    "log_prob = x * np.log(lmd) - loggamma(x + 1.0) - lmd\n",
    "prob = np.exp(log_prob)\n",
    "print(prob, log_prob)"
   ]
  },
  {
   "cell_type": "markdown",
   "id": "fatty-eugene",
   "metadata": {},
   "source": [
    "　対数をとった定義式\n",
    "\n",
    "$$\n",
    "\\log \\mathrm{Poi}(x | \\lambda)\n",
    "    = x \\log \\lambda\n",
    "      - \\log x!\n",
    "      - \\lambda\n",
    "$$\n",
    "\n",
    "を計算します。計算結果の指数をとると確率が得られます。\n",
    "\n",
    "$$\n",
    "\\mathrm{Poi}(x | \\lambda)\n",
    "    = \\exp \\Bigl(\n",
    "          \\log \\mathrm{Poi}(x | \\lambda)\n",
    "      \\Bigr)\n",
    "$$\n",
    "\n",
    "　指数と対数の性質より$\\exp(\\log x) = x$です。  \n",
    "\n",
    "　次は、`SciPy`ライブラリのモジュールを使って確率を計算します。  \n",
    "　ポアソン分布のモジュール`poisson`の確率メソッド`pmf()`を使って計算します。"
   ]
  },
  {
   "cell_type": "code",
   "execution_count": 6,
   "id": "disturbed-great",
   "metadata": {},
   "outputs": [
    {
     "name": "stdout",
     "output_type": "stream",
     "text": [
      "0.14652511110987343\n"
     ]
    }
   ],
   "source": [
    "# ポアソン分布の関数により確率を計算\n",
    "prob = poisson.pmf(k=x, mu=lmd)\n",
    "print(prob)"
   ]
  },
  {
   "cell_type": "markdown",
   "id": "dutch-public",
   "metadata": {},
   "source": [
    "　変数の引数`k`に`x`、パラメータの引数`mu`に`lmd`を指定します。  \n",
    "\n",
    "　`logpmf()`だと対数をとった確率を計算します。"
   ]
  },
  {
   "cell_type": "code",
   "execution_count": 7,
   "id": "mediterranean-fight",
   "metadata": {},
   "outputs": [
    {
     "name": "stdout",
     "output_type": "stream",
     "text": [
      "0.14652511110987343 -1.9205584583201643\n"
     ]
    }
   ],
   "source": [
    "# ポアソン分布の対数をとった関数により確率を計算\n",
    "log_prob = poisson.logpmf(k=x, mu=lmd)\n",
    "prob = np.exp(log_prob)\n",
    "print(prob, log_prob)"
   ]
  },
  {
   "cell_type": "markdown",
   "id": "demonstrated-haiti",
   "metadata": {},
   "source": [
    "　計算結果の指数をとると確率が得られます。  \n",
    "<br>"
   ]
  },
  {
   "cell_type": "markdown",
   "id": "authorized-dealer",
   "metadata": {},
   "source": [
    "## 統計量の計算\n",
    "\n",
    "　ポアソン分布の平均と分散を計算します。  \n",
    "<br>\n",
    "\n",
    "　平均を計算します。"
   ]
  },
  {
   "cell_type": "code",
   "execution_count": 8,
   "id": "familiar-municipality",
   "metadata": {},
   "outputs": [
    {
     "name": "stdout",
     "output_type": "stream",
     "text": [
      "4.0\n"
     ]
    }
   ],
   "source": [
    "# 計算式により平均を計算\n",
    "E_x = lmd\n",
    "print(E_x)"
   ]
  },
  {
   "cell_type": "markdown",
   "id": "blocked-invalid",
   "metadata": {},
   "source": [
    "　ポアソン分布の平均は$\\lambda$です。\n",
    "\n",
    "$$\n",
    "\\mathbb{E}[x]\n",
    "    = \\lambda\n",
    "$$\n",
    "\n",
    "　分散を計算します。"
   ]
  },
  {
   "cell_type": "code",
   "execution_count": 9,
   "id": "american-denmark",
   "metadata": {},
   "outputs": [
    {
     "name": "stdout",
     "output_type": "stream",
     "text": [
      "4.0\n"
     ]
    }
   ],
   "source": [
    "# 計算式により分散を計算\n",
    "V_x = lmd\n",
    "print(V_x)"
   ]
  },
  {
   "cell_type": "markdown",
   "id": "equipped-drunk",
   "metadata": {},
   "source": [
    "　ポアソン分布の分散も$\\lambda$です。\n",
    "\n",
    "$$\n",
    "\\mathbb{V}[x]\n",
    "    = \\lambda\n",
    "$$\n",
    "\n",
    "　ポアソン分布のモジュールの平均メソッド`mean()`でも平均を計算できます。"
   ]
  },
  {
   "cell_type": "code",
   "execution_count": 10,
   "id": "protecting-cholesterol",
   "metadata": {},
   "outputs": [
    {
     "name": "stdout",
     "output_type": "stream",
     "text": [
      "4.0\n"
     ]
    }
   ],
   "source": [
    "# ポアソン分布の関数により平均を計算\n",
    "E_x = poisson.mean(mu=lmd)\n",
    "print(E_x)"
   ]
  },
  {
   "cell_type": "markdown",
   "id": "retained-science",
   "metadata": {},
   "source": [
    "　確率メソッドと同様に引数を指定します。  \n",
    "\n",
    "　分散メソッド`var()`で分散を計算します。"
   ]
  },
  {
   "cell_type": "code",
   "execution_count": 11,
   "id": "dominican-camera",
   "metadata": {},
   "outputs": [
    {
     "name": "stdout",
     "output_type": "stream",
     "text": [
      "4.0\n"
     ]
    }
   ],
   "source": [
    "# ポアソン分布の関数により分散を計算\n",
    "V_x = poisson.var(mu=lmd)\n",
    "print(V_x)"
   ]
  },
  {
   "cell_type": "markdown",
   "id": "sacred-locator",
   "metadata": {},
   "source": [
    "　こちらも同様に引数を指定します。  \n",
    "<br>"
   ]
  },
  {
   "cell_type": "markdown",
   "id": "developing-commerce",
   "metadata": {},
   "source": [
    "## 分布の可視化\n",
    "\n",
    "　`Matplotlib`ライブラリの`PyPlot`モジュールを利用してポアソン分布のグラフを作成します。  \n",
    "<br>\n",
    "\n",
    "　ポアソン分布の確率変数がとり得る値$x$ごとの確率を計算します。"
   ]
  },
  {
   "cell_type": "code",
   "execution_count": 12,
   "id": "discrete-garlic",
   "metadata": {},
   "outputs": [],
   "source": [
    "# パラメータを指定\n",
    "lmd = 4.0\n",
    "\n",
    "# 作図用のxの点を作成\n",
    "x_vals = np.arange(np.ceil(lmd) * 4.0)\n",
    "\n",
    "# ポアソン分布を計算\n",
    "probability = poisson.pmf(k=x_vals, mu=lmd)"
   ]
  },
  {
   "cell_type": "markdown",
   "id": "saving-quantum",
   "metadata": {},
   "source": [
    "　$x$がとり得る値を作成して`x_vals`とします。この例では、`0`から`lmd`の`4`倍を範囲とします。ただし、$x$は0以上の整数なので、`np.ceil()`で`lmd`を切り上げて使います。  \n",
    "　`x_vals`の各要素に対応する確率を求めます。  \n",
    "\n",
    "　ポアソン分布のグラフを作成します。"
   ]
  },
  {
   "cell_type": "code",
   "execution_count": 13,
   "id": "weekly-independence",
   "metadata": {},
   "outputs": [
    {
     "data": {
      "image/png": "[encoded data removed]",
      "text/plain": [
       "<Figure size 864x648 with 1 Axes>"
      ]
     },
     "metadata": {
      "needs_background": "light"
     },
     "output_type": "display_data"
    }
   ],
   "source": [
    "# ポアソン分布を作図\n",
    "plt.figure(figsize=(12, 9)) # 図の設定\n",
    "plt.bar(x=x_vals, height=probability, color='#00A968') # 棒グラフ\n",
    "plt.xlabel('x') # x軸ラベル\n",
    "plt.ylabel('probability') # y軸ラベル\n",
    "plt.suptitle('Poisson Distribution', fontsize=20) # 全体のタイトル\n",
    "plt.title('$\\lambda=' + str(lmd) + '$', loc='left') # タイトル\n",
    "plt.xticks(ticks=x_vals) # x軸目盛\n",
    "plt.grid() # グリッド線\n",
    "plt.show() # 描画"
   ]
  },
  {
   "cell_type": "markdown",
   "id": "satisfied-depth",
   "metadata": {},
   "source": [
    "<br>\n",
    "\n",
    "　この分布に平均と標準偏差を重ねて表示します。"
   ]
  },
  {
   "cell_type": "code",
   "execution_count": 14,
   "id": "annoying-aaron",
   "metadata": {},
   "outputs": [
    {
     "data": {
      "image/png": "[encoded data removed]",
      "text/plain": [
       "<Figure size 864x648 with 1 Axes>"
      ]
     },
     "metadata": {
      "needs_background": "light"
     },
     "output_type": "display_data"
    }
   ],
   "source": [
    "# 統計量を計算\n",
    "E_x = lmd\n",
    "s_x = np.sqrt(lmd)\n",
    "\n",
    "# 統計量を重ねたポアソン分布を作図\n",
    "plt.figure(figsize=(12, 9)) # 図の設定\n",
    "plt.bar(x=x_vals, height=probability, color='#00A968') # 分布\n",
    "plt.vlines(x=E_x, ymin=0.0, ymax=probability.max(), color='orange', linewidth=2.5, linestyle='--', label='$E[x]$') # 平均\n",
    "plt.vlines(x=E_x - s_x, ymin=0.0, ymax=probability.max(), color='orange', linewidth=2.5, linestyle=':', label='$E[x] \\pm \\\\sqrt{V[x]}$') # 平均 - 標準偏差\n",
    "plt.vlines(x=E_x + s_x, ymin=0.0, ymax=probability.max(), color='orange', linewidth=2.5, linestyle=':') # 平均 + 標準偏差\n",
    "plt.xlabel('x') # x軸ラベル\n",
    "plt.ylabel('probability') # y軸ラベル\n",
    "plt.suptitle('Poisson Distribution', fontsize=20)# 全体のタイトル\n",
    "plt.title('$\\lambda=' + str(lmd) + '$', loc='left') # タイトル\n",
    "plt.xticks(ticks=x_vals) # x軸目盛\n",
    "plt.legend() # 凡例\n",
    "plt.grid() # グリッド線\n",
    "plt.show() # 描画"
   ]
  },
  {
   "cell_type": "markdown",
   "id": "under-village",
   "metadata": {},
   "source": [
    "　平均(破線)となる確率が最大なのを確認できます。また、点線で平均を中心に標準偏差の範囲を示しています。  \n",
    "\n",
    "　ポアソン分布のグラフを描画できました。  \n",
    "<br>"
   ]
  },
  {
   "cell_type": "markdown",
   "id": "intended-boating",
   "metadata": {},
   "source": [
    "## パラメータと分布の形状の関係\n",
    "\n",
    "　パラメータが及ぼす分布への影響をアニメーション(gif画像)で可視化します。  \n",
    "<br>\n",
    "\n",
    "　パラメータ$\\lambda$の値を少しずつ変更して、分布の変化をアニメーションで確認します。"
   ]
  },
  {
   "cell_type": "code",
   "execution_count": 15,
   "id": "external-denmark",
   "metadata": {},
   "outputs": [
    {
     "name": "stderr",
     "output_type": "stream",
     "text": [
      "MovieWriter ffmpeg unavailable; using Pillow instead.\n"
     ]
    },
    {
     "name": "stdout",
     "output_type": "stream",
     "text": [
      "101\n"
     ]
    },
    {
     "data": {
      "image/png": "[encoded data removed]",
      "text/plain": [
       "<Figure size 864x648 with 1 Axes>"
      ]
     },
     "metadata": {
      "needs_background": "light"
     },
     "output_type": "display_data"
    }
   ],
   "source": [
    "# lambdaとして利用する値を指定\n",
    "lambda_vals = np.arange(start=0.0, stop=10.1, step=0.1)\n",
    "print(len(lambda_vals)) # フレーム数\n",
    "\n",
    "# 作図用のxの点を作成\n",
    "x_vals = np.arange(np.ceil(lambda_vals.max()) * 2.0)\n",
    "\n",
    "# y軸(確率)の最大値を設定\n",
    "prob_max = np.max(poisson.pmf(k=x_vals, mu=lambda_vals.min())) + 0.1\n",
    "#prob_max = 0.5\n",
    "\n",
    "# 図を初期化\n",
    "fig = plt.figure(figsize=(12, 9)) # 図の設定\n",
    "fig.suptitle('Poisson Distribution', fontsize=20)# 全体のタイトル\n",
    "\n",
    "# 作図処理を関数として定義\n",
    "def update(i):\n",
    "    # 前フレームのグラフを初期化\n",
    "    plt.cla()\n",
    "    \n",
    "    # i回目のパラメータを取得\n",
    "    lmd = lambda_vals[i]\n",
    "    \n",
    "    # ポアソン分布を計算\n",
    "    probability = poisson.pmf(k=x_vals, mu=lmd)\n",
    "    \n",
    "    # ポアソン分布を作図\n",
    "    plt.bar(x=x_vals, height=probability, color='#00A968') # 棒グラフ\n",
    "    plt.xlabel('x') # x軸ラベル\n",
    "    plt.ylabel('probability') # y軸ラベル\n",
    "    plt.title('$\\lambda=' + str(np.round(lmd, 1)) + '$', loc='left') # タイトル\n",
    "    plt.xticks(ticks=x_vals) # x軸目盛\n",
    "    plt.grid() # グリッド線\n",
    "    plt.ylim(ymin=0.0, ymax=prob_max) # y軸の表示範囲\n",
    "\n",
    "# gif画像を作成\n",
    "anime_prob = FuncAnimation(fig, update, frames=len(lambda_vals), interval=100)\n",
    "\n",
    "# gif画像を保存\n",
    "anime_prob.save('../figure/Python/Poisson_prob.gif')"
   ]
  },
  {
   "cell_type": "markdown",
   "id": "chinese-frame",
   "metadata": {},
   "source": [
    "　$\\lambda$がとり得る値を作成して`lambda_vals`とします。  \n",
    "　`lambda_vals`の値ごとに作図します。  \n",
    "\n",
    "　$\\lambda$が大きくなるに従って、$x$が大きいほど確率が高くなる(山が右に移動する)のを確認できます。  \n",
    "<br>"
   ]
  },
  {
   "cell_type": "markdown",
   "id": "sitting-actor",
   "metadata": {},
   "source": [
    "## 乱数の生成\n",
    "\n",
    "　ポアソン分布の乱数を生成してヒストグラムを確認します。  \n",
    "<br>\n",
    "\n",
    "　パラメータを指定して、ポアソン分布に従う乱数を生成します。"
   ]
  },
  {
   "cell_type": "code",
   "execution_count": 16,
   "id": "based-engineering",
   "metadata": {},
   "outputs": [
    {
     "name": "stdout",
     "output_type": "stream",
     "text": [
      "[3 1 5 4 3 2 1 6 2 5]\n"
     ]
    }
   ],
   "source": [
    "# パラメータを指定\n",
    "lmd = 4.0\n",
    "\n",
    "# データ数(サンプルサイズ)を指定\n",
    "N = 1000\n",
    "\n",
    "# ポアソン分布に従う乱数を生成\n",
    "x_n = np.random.poisson(lam=lmd, size=N)\n",
    "print(x_n[:10])"
   ]
  },
  {
   "cell_type": "markdown",
   "id": "understood-pittsburgh",
   "metadata": {},
   "source": [
    "　ポアソン分布の乱数は、`NumPy`ライブラリの`random`モジュールのポアソン分布の乱数生成関数`np.random.poisson()`で生成できます。パラメータの引数`lam`に`lmd`、データ数(サンプルサイズ)の引数`size`に`N`を指定します。  \n",
    "\n",
    "　サンプルを集計します。"
   ]
  },
  {
   "cell_type": "code",
   "execution_count": 17,
   "id": "attractive-millennium",
   "metadata": {},
   "outputs": [
    {
     "name": "stdout",
     "output_type": "stream",
     "text": [
      "[0. 1. 2. 3. 4. 5. 6. 7. 8. 9.]\n",
      "[ 11  80 140 208 210 145 103  57  22  14]\n"
     ]
    }
   ],
   "source": [
    "# 作図用のxの点を作成\n",
    "x_vals = np.arange(x_n.max() + 5.0)\n",
    "print(x_vals[:10])\n",
    "\n",
    "# 乱数を集計\n",
    "frequency = np.array([np.sum(x_n == m) for m in x_vals])\n",
    "print(frequency[:10])\n",
    "\n",
    "# ポアソン分布を計算\n",
    "probability = poisson.pmf(k=x_vals, mu=lmd)"
   ]
  },
  {
   "cell_type": "markdown",
   "id": "veterinary-rover",
   "metadata": {},
   "source": [
    "　`x_n`に含まれる値が`m`の要素数は、`np.sum(x_n == m)`で得られます。  \n",
    "　リスト内包表記を用いて、`x_vals`の全ての要素をカウントして配列に格納します。  \n",
    "\n",
    "　ヒストグラムを作成します。"
   ]
  },
  {
   "cell_type": "code",
   "execution_count": 18,
   "id": "meaningful-denmark",
   "metadata": {},
   "outputs": [
    {
     "data": {
      "image/png": "[encoded data removed]",
      "text/plain": [
       "<Figure size 864x648 with 1 Axes>"
      ]
     },
     "metadata": {
      "needs_background": "light"
     },
     "output_type": "display_data"
    }
   ],
   "source": [
    "# サンプルのヒストグラムを作成\n",
    "plt.figure(figsize=(12, 9)) # 図の設定\n",
    "plt.bar(x=x_vals, height=frequency, color='#00A968') # ヒストグラム\n",
    "plt.xlabel('x') # x軸ラベル\n",
    "plt.ylabel('frequency') # y軸ラベル\n",
    "plt.suptitle('Poisson Distribution', fontsize=20)# 全体のタイトル\n",
    "plt.title('$\\lambda=' + str(lmd) + ', N=' + str(N) + \n",
    "          '=(' + ', '.join([str(f) for f in frequency]) + ')$', loc='left') # タイトル\n",
    "plt.xticks(ticks=x_vals) # x軸目盛\n",
    "plt.grid() # グリッド線\n",
    "plt.show() # 描画"
   ]
  },
  {
   "cell_type": "markdown",
   "id": "incident-madonna",
   "metadata": {},
   "source": [
    "<br>\n",
    "\n",
    "　構成比を分布に重ねて描画します。"
   ]
  },
  {
   "cell_type": "code",
   "execution_count": 19,
   "id": "indirect-order",
   "metadata": {},
   "outputs": [
    {
     "data": {
      "image/png": "[encoded data removed]",
      "text/plain": [
       "<Figure size 864x648 with 1 Axes>"
      ]
     },
     "metadata": {
      "needs_background": "light"
     },
     "output_type": "display_data"
    }
   ],
   "source": [
    "# サンプルの構成比を作図\n",
    "plt.figure(figsize=(12, 9)) # 図の設定\n",
    "plt.bar(x=x_vals, height=probability, color='white', edgecolor='green', linestyle='--') # 元の分布\n",
    "plt.bar(x=x_vals, height=frequency / N, color='#00A968', alpha=0.8) # 構成比\n",
    "plt.xlabel('x') # x軸ラベル\n",
    "plt.ylabel('proportion') # y軸ラベル\n",
    "plt.suptitle('Poisson Distribution', fontsize=20)# 全体のタイトル\n",
    "plt.title('$\\lambda=' + str(lmd) + ', N=' + str(N) + \n",
    "          '=(' + ', '.join([str(f) for f in frequency]) + ')$', loc='left') # タイトル\n",
    "plt.xticks(ticks=x_vals) # x軸目盛\n",
    "plt.grid() # グリッド線\n",
    "plt.show() # 描画"
   ]
  },
  {
   "cell_type": "markdown",
   "id": "southwest-relevance",
   "metadata": {},
   "source": [
    "　頻度`frequency`をデータ数`N`で割り、各値の構成比を計算します。  \n",
    "\n",
    "　データ数が十分に増えると元の分布(破線のグラフ)のグラフに形が近づきます。  \n",
    "<br>\n",
    "\n",
    "　サンプルサイズとヒストグラムの変化をアニメーションで確認します。乱数を1つずつ取り出して作図します。  \n",
    "\n",
    "　ヒストグラムのアニメーションを作成します。"
   ]
  },
  {
   "cell_type": "code",
   "execution_count": 20,
   "id": "reliable-intersection",
   "metadata": {},
   "outputs": [
    {
     "name": "stderr",
     "output_type": "stream",
     "text": [
      "MovieWriter ffmpeg unavailable; using Pillow instead.\n"
     ]
    },
    {
     "data": {
      "image/png": "[encoded data removed]",
      "text/plain": [
       "<Figure size 720x540 with 1 Axes>"
      ]
     },
     "metadata": {
      "needs_background": "light"
     },
     "output_type": "display_data"
    }
   ],
   "source": [
    "# フレーム数を指定\n",
    "N_frame = 150\n",
    "\n",
    "# 図を初期化\n",
    "fig = plt.figure(figsize=(10, 7.5)) # 図の設定\n",
    "fig.suptitle('Poisson Distribution', fontsize=20)# 全体のタイトル\n",
    "\n",
    "# y軸(頻度)の最大値を設定\n",
    "freq_max = np.max([np.sum(x_n[:N_frame] == m) for m in x_vals]) + 1.0\n",
    "\n",
    "# 作図処理を関数として定義\n",
    "def update(n):\n",
    "    # 前フレームのグラフを初期化\n",
    "    plt.cla()\n",
    "    \n",
    "    # n個の乱数を集計\n",
    "    frequency = np.array([np.sum(x_n[:(n+1)] == m) for m in x_vals])\n",
    "    \n",
    "    # サンプルのヒストグラムを作成\n",
    "    plt.bar(x=x_vals, height=frequency, color='#00A968', zorder=1) # ヒストグラム\n",
    "    plt.scatter(x=x_n[n], y=0.0, s=100, c='orange', zorder=2) # サンプル\n",
    "    plt.xlabel('x') # x軸ラベル\n",
    "    plt.ylabel('frequency') # y軸ラベル\n",
    "    plt.title('$\\lambda=' + str(lmd) + ', N=' + str(n + 1) + \n",
    "              '=(' + ', '.join([str(f) for f in frequency]) + ')$', loc='left') # タイトル\n",
    "    plt.xticks(ticks=x_vals) # x軸目盛\n",
    "    plt.grid() # グリッド線\n",
    "    plt.ylim(ymin=-0.5, ymax=freq_max) # y軸の表示範囲\n",
    "\n",
    "# gif画像を作成\n",
    "anime_freq = FuncAnimation(fig, update, frames=N_frame, interval=100)\n",
    "\n",
    "# gif画像を保存\n",
    "anime_freq.save('../figure/Python/Poisson_freq.gif')"
   ]
  },
  {
   "cell_type": "markdown",
   "id": "earned-constraint",
   "metadata": {},
   "source": [
    "<br>\n",
    "\n",
    "　構成比のアニメーションを作成します。"
   ]
  },
  {
   "cell_type": "code",
   "execution_count": 21,
   "id": "conceptual-necklace",
   "metadata": {},
   "outputs": [
    {
     "name": "stderr",
     "output_type": "stream",
     "text": [
      "MovieWriter ffmpeg unavailable; using Pillow instead.\n"
     ]
    },
    {
     "data": {
      "image/png": "[encoded data removed]",
      "text/plain": [
       "<Figure size 720x540 with 1 Axes>"
      ]
     },
     "metadata": {
      "needs_background": "light"
     },
     "output_type": "display_data"
    }
   ],
   "source": [
    "## アニメーションによる可視化:(構成比)\n",
    "\n",
    "# フレーム数を指定\n",
    "N_frame = 150\n",
    "\n",
    "# 図を初期化\n",
    "fig = plt.figure(figsize=(10, 7.5)) # 図の設定\n",
    "fig.suptitle('Poisson Distribution', fontsize=20)# 全体のタイトル\n",
    "\n",
    "# y軸(割合)の最大値を設定\n",
    "prop_max = np.max([np.sum(x_n[:N_frame] == m) for m in x_vals]) / N_frame + 0.1\n",
    "\n",
    "# 作図処理を関数として定義\n",
    "def update(n):\n",
    "    # 前フレームのグラフを初期化\n",
    "    plt.cla()\n",
    "    \n",
    "    # n個の乱数を集計\n",
    "    frequency = np.array([np.sum(x_n[:(n+1)] == m) for m in x_vals])\n",
    "    \n",
    "    # サンプルのヒストグラムを作成\n",
    "    plt.bar(x=x_vals, height=probability, color='white', edgecolor='green', linestyle='--', zorder=1) # 元の分布\n",
    "    plt.bar(x=x_vals, height=frequency / (n + 1), color='#00A968', alpha=0.8, zorder=2) # 構成比\n",
    "    plt.scatter(x=x_n[n], y=0.0, s=100, c='orange', zorder=3) # サンプル\n",
    "    plt.xlabel('x') # x軸ラベル\n",
    "    plt.ylabel('proportion') # y軸ラベル\n",
    "    plt.title('$\\lambda=' + str(lmd) + ', N=' + str(n + 1) + \n",
    "              '=(' + ', '.join([str(f) for f in frequency]) + ')$', loc='left') # タイトル\n",
    "    plt.xticks(ticks=x_vals) # x軸目盛\n",
    "    plt.grid() # グリッド線\n",
    "    plt.ylim(ymin=-0.01, ymax=prop_max) # y軸の表示範囲\n",
    "\n",
    "# gif画像を作成\n",
    "anime_prop = FuncAnimation(fig, update, frames=N_frame, interval=100)\n",
    "\n",
    "# gif画像を保存\n",
    "anime_prop.save('../figure/Python/Poisson_prop.gif')"
   ]
  },
  {
   "cell_type": "markdown",
   "id": "alive-dictionary",
   "metadata": {},
   "source": [
    "　サンプルが増えるに従って、元の分布に近付くのを確認できます。  \n",
    "<br>"
   ]
  }
 ],
 "metadata": {
  "kernelspec": {
   "display_name": "Python 3",
   "language": "python",
   "name": "python3"
  },
  "language_info": {
   "codemirror_mode": {
    "name": "ipython",
    "version": 3
   },
   "file_extension": ".py",
   "mimetype": "text/x-python",
   "name": "python",
   "nbconvert_exporter": "python",
   "pygments_lexer": "ipython3",
   "version": "3.7.10"
  }
 },
 "nbformat": 4,
 "nbformat_minor": 5
}
